{
 "cells": [
  {
   "cell_type": "code",
   "execution_count": 2,
   "metadata": {},
   "outputs": [],
   "source": [
    "import pandas as pd\n",
    "\n",
    "mice_eeg_1 = pd.read_csv('pw3_data/EEG_mouse_data_1.csv')\n",
    "mice_eeg_1\n",
    "\n",
    "mice_egg_2 = pd.read_csv('pw3_data/EEG_mouse_data_2.csv')\n",
    "mice_egg_2\n",
    "\n",
    "mice_eeg_total = pd.concat([mice_eeg_1, mice_egg_2])"
   ]
  },
  {
   "cell_type": "code",
   "execution_count": 3,
   "metadata": {},
   "outputs": [
    {
     "data": {
      "text/html": [
       "<div>\n",
       "<style scoped>\n",
       "    .dataframe tbody tr th:only-of-type {\n",
       "        vertical-align: middle;\n",
       "    }\n",
       "\n",
       "    .dataframe tbody tr th {\n",
       "        vertical-align: top;\n",
       "    }\n",
       "\n",
       "    .dataframe thead th {\n",
       "        text-align: right;\n",
       "    }\n",
       "</style>\n",
       "<table border=\"1\" class=\"dataframe\">\n",
       "  <thead>\n",
       "    <tr style=\"text-align: right;\">\n",
       "      <th></th>\n",
       "      <th>state</th>\n",
       "      <th>amplitude_around_1_Hertz</th>\n",
       "      <th>amplitude_around_2_Hertz</th>\n",
       "      <th>amplitude_around_3_Hertz</th>\n",
       "      <th>amplitude_around_4_Hertz</th>\n",
       "      <th>amplitude_around_5_Hertz</th>\n",
       "      <th>amplitude_around_6_Hertz</th>\n",
       "      <th>amplitude_around_7_Hertz</th>\n",
       "      <th>amplitude_around_8_Hertz</th>\n",
       "      <th>amplitude_around_9_Hertz</th>\n",
       "      <th>...</th>\n",
       "      <th>amplitude_around_16_Hertz</th>\n",
       "      <th>amplitude_around_17_Hertz</th>\n",
       "      <th>amplitude_around_18_Hertz</th>\n",
       "      <th>amplitude_around_19_Hertz</th>\n",
       "      <th>amplitude_around_20_Hertz</th>\n",
       "      <th>amplitude_around_21_Hertz</th>\n",
       "      <th>amplitude_around_22_Hertz</th>\n",
       "      <th>amplitude_around_23_Hertz</th>\n",
       "      <th>amplitude_around_24_Hertz</th>\n",
       "      <th>amplitude_around_25_Hertz</th>\n",
       "    </tr>\n",
       "  </thead>\n",
       "  <tbody>\n",
       "    <tr>\n",
       "      <th>0</th>\n",
       "      <td>n</td>\n",
       "      <td>0.000009</td>\n",
       "      <td>0.000014</td>\n",
       "      <td>0.000013</td>\n",
       "      <td>0.000014</td>\n",
       "      <td>0.000023</td>\n",
       "      <td>0.000009</td>\n",
       "      <td>0.000019</td>\n",
       "      <td>0.000011</td>\n",
       "      <td>0.000016</td>\n",
       "      <td>...</td>\n",
       "      <td>1.121431e-06</td>\n",
       "      <td>9.572615e-07</td>\n",
       "      <td>7.912338e-07</td>\n",
       "      <td>2.075210e-06</td>\n",
       "      <td>2.125421e-06</td>\n",
       "      <td>9.183682e-07</td>\n",
       "      <td>1.442768e-06</td>\n",
       "      <td>1.315617e-06</td>\n",
       "      <td>1.882535e-06</td>\n",
       "      <td>3.555321e-07</td>\n",
       "    </tr>\n",
       "    <tr>\n",
       "      <th>1</th>\n",
       "      <td>n</td>\n",
       "      <td>0.000010</td>\n",
       "      <td>0.000010</td>\n",
       "      <td>0.000011</td>\n",
       "      <td>0.000015</td>\n",
       "      <td>0.000022</td>\n",
       "      <td>0.000017</td>\n",
       "      <td>0.000027</td>\n",
       "      <td>0.000011</td>\n",
       "      <td>0.000011</td>\n",
       "      <td>...</td>\n",
       "      <td>1.214325e-06</td>\n",
       "      <td>2.456797e-06</td>\n",
       "      <td>2.102875e-06</td>\n",
       "      <td>3.754975e-07</td>\n",
       "      <td>1.144381e-06</td>\n",
       "      <td>1.869306e-06</td>\n",
       "      <td>9.546215e-07</td>\n",
       "      <td>8.958666e-07</td>\n",
       "      <td>2.865039e-07</td>\n",
       "      <td>8.280935e-07</td>\n",
       "    </tr>\n",
       "    <tr>\n",
       "      <th>2</th>\n",
       "      <td>n</td>\n",
       "      <td>0.000011</td>\n",
       "      <td>0.000077</td>\n",
       "      <td>0.000034</td>\n",
       "      <td>0.000019</td>\n",
       "      <td>0.000013</td>\n",
       "      <td>0.000006</td>\n",
       "      <td>0.000010</td>\n",
       "      <td>0.000004</td>\n",
       "      <td>0.000006</td>\n",
       "      <td>...</td>\n",
       "      <td>2.251707e-06</td>\n",
       "      <td>3.322518e-06</td>\n",
       "      <td>1.112426e-06</td>\n",
       "      <td>8.238182e-07</td>\n",
       "      <td>8.392117e-07</td>\n",
       "      <td>6.979253e-07</td>\n",
       "      <td>4.631708e-07</td>\n",
       "      <td>3.179654e-07</td>\n",
       "      <td>3.833318e-07</td>\n",
       "      <td>2.466324e-07</td>\n",
       "    </tr>\n",
       "    <tr>\n",
       "      <th>3</th>\n",
       "      <td>w</td>\n",
       "      <td>0.000003</td>\n",
       "      <td>0.000031</td>\n",
       "      <td>0.000044</td>\n",
       "      <td>0.000016</td>\n",
       "      <td>0.000007</td>\n",
       "      <td>0.000006</td>\n",
       "      <td>0.000005</td>\n",
       "      <td>0.000007</td>\n",
       "      <td>0.000006</td>\n",
       "      <td>...</td>\n",
       "      <td>2.197342e-06</td>\n",
       "      <td>8.276670e-07</td>\n",
       "      <td>6.019235e-07</td>\n",
       "      <td>3.639088e-07</td>\n",
       "      <td>3.230235e-07</td>\n",
       "      <td>4.536860e-07</td>\n",
       "      <td>5.793950e-07</td>\n",
       "      <td>2.854656e-07</td>\n",
       "      <td>9.187695e-07</td>\n",
       "      <td>5.579241e-07</td>\n",
       "    </tr>\n",
       "    <tr>\n",
       "      <th>4</th>\n",
       "      <td>w</td>\n",
       "      <td>0.000010</td>\n",
       "      <td>0.000011</td>\n",
       "      <td>0.000012</td>\n",
       "      <td>0.000017</td>\n",
       "      <td>0.000020</td>\n",
       "      <td>0.000018</td>\n",
       "      <td>0.000014</td>\n",
       "      <td>0.000025</td>\n",
       "      <td>0.000018</td>\n",
       "      <td>...</td>\n",
       "      <td>3.330912e-06</td>\n",
       "      <td>3.003597e-06</td>\n",
       "      <td>3.560957e-06</td>\n",
       "      <td>1.856221e-06</td>\n",
       "      <td>8.180798e-07</td>\n",
       "      <td>1.657310e-06</td>\n",
       "      <td>2.038410e-06</td>\n",
       "      <td>9.678699e-07</td>\n",
       "      <td>6.374025e-07</td>\n",
       "      <td>8.643028e-07</td>\n",
       "    </tr>\n",
       "    <tr>\n",
       "      <th>...</th>\n",
       "      <td>...</td>\n",
       "      <td>...</td>\n",
       "      <td>...</td>\n",
       "      <td>...</td>\n",
       "      <td>...</td>\n",
       "      <td>...</td>\n",
       "      <td>...</td>\n",
       "      <td>...</td>\n",
       "      <td>...</td>\n",
       "      <td>...</td>\n",
       "      <td>...</td>\n",
       "      <td>...</td>\n",
       "      <td>...</td>\n",
       "      <td>...</td>\n",
       "      <td>...</td>\n",
       "      <td>...</td>\n",
       "      <td>...</td>\n",
       "      <td>...</td>\n",
       "      <td>...</td>\n",
       "      <td>...</td>\n",
       "      <td>...</td>\n",
       "    </tr>\n",
       "    <tr>\n",
       "      <th>20600</th>\n",
       "      <td>w</td>\n",
       "      <td>0.000025</td>\n",
       "      <td>0.000007</td>\n",
       "      <td>0.000007</td>\n",
       "      <td>0.000003</td>\n",
       "      <td>0.000005</td>\n",
       "      <td>0.000002</td>\n",
       "      <td>0.000005</td>\n",
       "      <td>0.000010</td>\n",
       "      <td>0.000013</td>\n",
       "      <td>...</td>\n",
       "      <td>7.605994e-07</td>\n",
       "      <td>5.857975e-07</td>\n",
       "      <td>2.008976e-06</td>\n",
       "      <td>1.047500e-06</td>\n",
       "      <td>8.361965e-07</td>\n",
       "      <td>1.187530e-06</td>\n",
       "      <td>1.362517e-06</td>\n",
       "      <td>1.155722e-06</td>\n",
       "      <td>4.674335e-07</td>\n",
       "      <td>4.710592e-07</td>\n",
       "    </tr>\n",
       "    <tr>\n",
       "      <th>20601</th>\n",
       "      <td>w</td>\n",
       "      <td>0.000017</td>\n",
       "      <td>0.000038</td>\n",
       "      <td>0.000015</td>\n",
       "      <td>0.000011</td>\n",
       "      <td>0.000019</td>\n",
       "      <td>0.000006</td>\n",
       "      <td>0.000010</td>\n",
       "      <td>0.000012</td>\n",
       "      <td>0.000009</td>\n",
       "      <td>...</td>\n",
       "      <td>4.660933e-07</td>\n",
       "      <td>4.797065e-07</td>\n",
       "      <td>1.377159e-06</td>\n",
       "      <td>1.549855e-06</td>\n",
       "      <td>2.014634e-06</td>\n",
       "      <td>1.006481e-06</td>\n",
       "      <td>1.255027e-06</td>\n",
       "      <td>7.684788e-07</td>\n",
       "      <td>1.131635e-06</td>\n",
       "      <td>1.080890e-06</td>\n",
       "    </tr>\n",
       "    <tr>\n",
       "      <th>20602</th>\n",
       "      <td>w</td>\n",
       "      <td>0.000016</td>\n",
       "      <td>0.000028</td>\n",
       "      <td>0.000031</td>\n",
       "      <td>0.000011</td>\n",
       "      <td>0.000019</td>\n",
       "      <td>0.000001</td>\n",
       "      <td>0.000015</td>\n",
       "      <td>0.000002</td>\n",
       "      <td>0.000007</td>\n",
       "      <td>...</td>\n",
       "      <td>9.727383e-07</td>\n",
       "      <td>5.698932e-07</td>\n",
       "      <td>8.794702e-07</td>\n",
       "      <td>9.412227e-07</td>\n",
       "      <td>7.479130e-07</td>\n",
       "      <td>1.173636e-07</td>\n",
       "      <td>8.319340e-07</td>\n",
       "      <td>1.222192e-07</td>\n",
       "      <td>1.277335e-07</td>\n",
       "      <td>2.256663e-07</td>\n",
       "    </tr>\n",
       "    <tr>\n",
       "      <th>20603</th>\n",
       "      <td>w</td>\n",
       "      <td>0.000013</td>\n",
       "      <td>0.000014</td>\n",
       "      <td>0.000020</td>\n",
       "      <td>0.000018</td>\n",
       "      <td>0.000007</td>\n",
       "      <td>0.000013</td>\n",
       "      <td>0.000009</td>\n",
       "      <td>0.000018</td>\n",
       "      <td>0.000005</td>\n",
       "      <td>...</td>\n",
       "      <td>7.172008e-07</td>\n",
       "      <td>1.828871e-06</td>\n",
       "      <td>5.327440e-07</td>\n",
       "      <td>5.149679e-07</td>\n",
       "      <td>6.310218e-07</td>\n",
       "      <td>4.164332e-07</td>\n",
       "      <td>3.309523e-07</td>\n",
       "      <td>8.170078e-07</td>\n",
       "      <td>6.630207e-07</td>\n",
       "      <td>9.615590e-07</td>\n",
       "    </tr>\n",
       "    <tr>\n",
       "      <th>20604</th>\n",
       "      <td>w</td>\n",
       "      <td>0.000004</td>\n",
       "      <td>0.000006</td>\n",
       "      <td>0.000011</td>\n",
       "      <td>0.000025</td>\n",
       "      <td>0.000040</td>\n",
       "      <td>0.000007</td>\n",
       "      <td>0.000005</td>\n",
       "      <td>0.000021</td>\n",
       "      <td>0.000011</td>\n",
       "      <td>...</td>\n",
       "      <td>1.841960e-06</td>\n",
       "      <td>2.496559e-06</td>\n",
       "      <td>8.287230e-07</td>\n",
       "      <td>1.240961e-06</td>\n",
       "      <td>6.318763e-07</td>\n",
       "      <td>4.139715e-07</td>\n",
       "      <td>1.134125e-06</td>\n",
       "      <td>3.685242e-06</td>\n",
       "      <td>7.301847e-07</td>\n",
       "      <td>1.334593e-06</td>\n",
       "    </tr>\n",
       "  </tbody>\n",
       "</table>\n",
       "<p>40863 rows × 26 columns</p>\n",
       "</div>"
      ],
      "text/plain": [
       "      state  amplitude_around_1_Hertz  amplitude_around_2_Hertz  \\\n",
       "0         n                  0.000009                  0.000014   \n",
       "1         n                  0.000010                  0.000010   \n",
       "2         n                  0.000011                  0.000077   \n",
       "3         w                  0.000003                  0.000031   \n",
       "4         w                  0.000010                  0.000011   \n",
       "...     ...                       ...                       ...   \n",
       "20600     w                  0.000025                  0.000007   \n",
       "20601     w                  0.000017                  0.000038   \n",
       "20602     w                  0.000016                  0.000028   \n",
       "20603     w                  0.000013                  0.000014   \n",
       "20604     w                  0.000004                  0.000006   \n",
       "\n",
       "       amplitude_around_3_Hertz  amplitude_around_4_Hertz  \\\n",
       "0                      0.000013                  0.000014   \n",
       "1                      0.000011                  0.000015   \n",
       "2                      0.000034                  0.000019   \n",
       "3                      0.000044                  0.000016   \n",
       "4                      0.000012                  0.000017   \n",
       "...                         ...                       ...   \n",
       "20600                  0.000007                  0.000003   \n",
       "20601                  0.000015                  0.000011   \n",
       "20602                  0.000031                  0.000011   \n",
       "20603                  0.000020                  0.000018   \n",
       "20604                  0.000011                  0.000025   \n",
       "\n",
       "       amplitude_around_5_Hertz  amplitude_around_6_Hertz  \\\n",
       "0                      0.000023                  0.000009   \n",
       "1                      0.000022                  0.000017   \n",
       "2                      0.000013                  0.000006   \n",
       "3                      0.000007                  0.000006   \n",
       "4                      0.000020                  0.000018   \n",
       "...                         ...                       ...   \n",
       "20600                  0.000005                  0.000002   \n",
       "20601                  0.000019                  0.000006   \n",
       "20602                  0.000019                  0.000001   \n",
       "20603                  0.000007                  0.000013   \n",
       "20604                  0.000040                  0.000007   \n",
       "\n",
       "       amplitude_around_7_Hertz  amplitude_around_8_Hertz  \\\n",
       "0                      0.000019                  0.000011   \n",
       "1                      0.000027                  0.000011   \n",
       "2                      0.000010                  0.000004   \n",
       "3                      0.000005                  0.000007   \n",
       "4                      0.000014                  0.000025   \n",
       "...                         ...                       ...   \n",
       "20600                  0.000005                  0.000010   \n",
       "20601                  0.000010                  0.000012   \n",
       "20602                  0.000015                  0.000002   \n",
       "20603                  0.000009                  0.000018   \n",
       "20604                  0.000005                  0.000021   \n",
       "\n",
       "       amplitude_around_9_Hertz  ...  amplitude_around_16_Hertz  \\\n",
       "0                      0.000016  ...               1.121431e-06   \n",
       "1                      0.000011  ...               1.214325e-06   \n",
       "2                      0.000006  ...               2.251707e-06   \n",
       "3                      0.000006  ...               2.197342e-06   \n",
       "4                      0.000018  ...               3.330912e-06   \n",
       "...                         ...  ...                        ...   \n",
       "20600                  0.000013  ...               7.605994e-07   \n",
       "20601                  0.000009  ...               4.660933e-07   \n",
       "20602                  0.000007  ...               9.727383e-07   \n",
       "20603                  0.000005  ...               7.172008e-07   \n",
       "20604                  0.000011  ...               1.841960e-06   \n",
       "\n",
       "       amplitude_around_17_Hertz  amplitude_around_18_Hertz  \\\n",
       "0                   9.572615e-07               7.912338e-07   \n",
       "1                   2.456797e-06               2.102875e-06   \n",
       "2                   3.322518e-06               1.112426e-06   \n",
       "3                   8.276670e-07               6.019235e-07   \n",
       "4                   3.003597e-06               3.560957e-06   \n",
       "...                          ...                        ...   \n",
       "20600               5.857975e-07               2.008976e-06   \n",
       "20601               4.797065e-07               1.377159e-06   \n",
       "20602               5.698932e-07               8.794702e-07   \n",
       "20603               1.828871e-06               5.327440e-07   \n",
       "20604               2.496559e-06               8.287230e-07   \n",
       "\n",
       "       amplitude_around_19_Hertz  amplitude_around_20_Hertz  \\\n",
       "0                   2.075210e-06               2.125421e-06   \n",
       "1                   3.754975e-07               1.144381e-06   \n",
       "2                   8.238182e-07               8.392117e-07   \n",
       "3                   3.639088e-07               3.230235e-07   \n",
       "4                   1.856221e-06               8.180798e-07   \n",
       "...                          ...                        ...   \n",
       "20600               1.047500e-06               8.361965e-07   \n",
       "20601               1.549855e-06               2.014634e-06   \n",
       "20602               9.412227e-07               7.479130e-07   \n",
       "20603               5.149679e-07               6.310218e-07   \n",
       "20604               1.240961e-06               6.318763e-07   \n",
       "\n",
       "       amplitude_around_21_Hertz  amplitude_around_22_Hertz  \\\n",
       "0                   9.183682e-07               1.442768e-06   \n",
       "1                   1.869306e-06               9.546215e-07   \n",
       "2                   6.979253e-07               4.631708e-07   \n",
       "3                   4.536860e-07               5.793950e-07   \n",
       "4                   1.657310e-06               2.038410e-06   \n",
       "...                          ...                        ...   \n",
       "20600               1.187530e-06               1.362517e-06   \n",
       "20601               1.006481e-06               1.255027e-06   \n",
       "20602               1.173636e-07               8.319340e-07   \n",
       "20603               4.164332e-07               3.309523e-07   \n",
       "20604               4.139715e-07               1.134125e-06   \n",
       "\n",
       "       amplitude_around_23_Hertz  amplitude_around_24_Hertz  \\\n",
       "0                   1.315617e-06               1.882535e-06   \n",
       "1                   8.958666e-07               2.865039e-07   \n",
       "2                   3.179654e-07               3.833318e-07   \n",
       "3                   2.854656e-07               9.187695e-07   \n",
       "4                   9.678699e-07               6.374025e-07   \n",
       "...                          ...                        ...   \n",
       "20600               1.155722e-06               4.674335e-07   \n",
       "20601               7.684788e-07               1.131635e-06   \n",
       "20602               1.222192e-07               1.277335e-07   \n",
       "20603               8.170078e-07               6.630207e-07   \n",
       "20604               3.685242e-06               7.301847e-07   \n",
       "\n",
       "       amplitude_around_25_Hertz  \n",
       "0                   3.555321e-07  \n",
       "1                   8.280935e-07  \n",
       "2                   2.466324e-07  \n",
       "3                   5.579241e-07  \n",
       "4                   8.643028e-07  \n",
       "...                          ...  \n",
       "20600               4.710592e-07  \n",
       "20601               1.080890e-06  \n",
       "20602               2.256663e-07  \n",
       "20603               9.615590e-07  \n",
       "20604               1.334593e-06  \n",
       "\n",
       "[40863 rows x 26 columns]"
      ]
     },
     "execution_count": 3,
     "metadata": {},
     "output_type": "execute_result"
    }
   ],
   "source": [
    "data_train = mice_eeg_total.iloc[:, :26]\n",
    "data_train"
   ]
  },
  {
   "cell_type": "code",
   "execution_count": 4,
   "metadata": {},
   "outputs": [
    {
     "name": "stderr",
     "output_type": "stream",
     "text": [
      "C:\\Users\\emily\\AppData\\Local\\Temp\\ipykernel_24732\\1154354999.py:1: SettingWithCopyWarning: \n",
      "A value is trying to be set on a copy of a slice from a DataFrame\n",
      "\n",
      "See the caveats in the documentation: https://pandas.pydata.org/pandas-docs/stable/user_guide/indexing.html#returning-a-view-versus-a-copy\n",
      "  data_train[\"state\"][data_train[\"state\"] == \"w\"] = -1\n",
      "C:\\Users\\emily\\AppData\\Local\\Temp\\ipykernel_24732\\1154354999.py:2: SettingWithCopyWarning: \n",
      "A value is trying to be set on a copy of a slice from a DataFrame\n",
      "\n",
      "See the caveats in the documentation: https://pandas.pydata.org/pandas-docs/stable/user_guide/indexing.html#returning-a-view-versus-a-copy\n",
      "  data_train[\"state\"][data_train[\"state\"] != -1] = 1\n"
     ]
    }
   ],
   "source": [
    "data_train[\"state\"][data_train[\"state\"] == \"w\"] = -1\n",
    "data_train[\"state\"][data_train[\"state\"] != -1] = 1\n",
    "\n",
    "#data_train[\"state\"].remplace('w', -1)"
   ]
  },
  {
   "cell_type": "code",
   "execution_count": 5,
   "metadata": {},
   "outputs": [
    {
     "data": {
      "text/plain": [
       "0         1\n",
       "1         1\n",
       "2         1\n",
       "3        -1\n",
       "4        -1\n",
       "         ..\n",
       "20600    -1\n",
       "20601    -1\n",
       "20602    -1\n",
       "20603    -1\n",
       "20604    -1\n",
       "Name: state, Length: 40863, dtype: object"
      ]
     },
     "execution_count": 5,
     "metadata": {},
     "output_type": "execute_result"
    }
   ],
   "source": [
    "data_train[\"state\"]"
   ]
  },
  {
   "cell_type": "code",
   "execution_count": 6,
   "metadata": {},
   "outputs": [],
   "source": [
    "# %pip install keras\n",
    "# %pip install tensorflow"
   ]
  },
  {
   "cell_type": "code",
   "execution_count": 7,
   "metadata": {},
   "outputs": [
    {
     "name": "stderr",
     "output_type": "stream",
     "text": [
      "c:\\Users\\emily\\anaconda3\\lib\\site-packages\\scipy\\__init__.py:146: UserWarning: A NumPy version >=1.16.5 and <1.23.0 is required for this version of SciPy (detected version 1.26.4\n",
      "  warnings.warn(f\"A NumPy version >={np_minversion} and <{np_maxversion}\"\n"
     ]
    },
    {
     "data": {
      "text/html": [
       "<pre style=\"white-space:pre;overflow-x:auto;line-height:normal;font-family:Menlo,'DejaVu Sans Mono',consolas,'Courier New',monospace\"><span style=\"font-weight: bold\">Model: \"sequential\"</span>\n",
       "</pre>\n"
      ],
      "text/plain": [
       "\u001b[1mModel: \"sequential\"\u001b[0m\n"
      ]
     },
     "metadata": {},
     "output_type": "display_data"
    },
    {
     "data": {
      "text/html": [
       "<pre style=\"white-space:pre;overflow-x:auto;line-height:normal;font-family:Menlo,'DejaVu Sans Mono',consolas,'Courier New',monospace\">┏━━━━━━━━━━━━━━━━━━━━━━━━━━━━━━━━━┳━━━━━━━━━━━━━━━━━━━━━━━━┳━━━━━━━━━━━━━━━┓\n",
       "┃<span style=\"font-weight: bold\"> Layer (type)                    </span>┃<span style=\"font-weight: bold\"> Output Shape           </span>┃<span style=\"font-weight: bold\">       Param # </span>┃\n",
       "┡━━━━━━━━━━━━━━━━━━━━━━━━━━━━━━━━━╇━━━━━━━━━━━━━━━━━━━━━━━━╇━━━━━━━━━━━━━━━┩\n",
       "│ dense (<span style=\"color: #0087ff; text-decoration-color: #0087ff\">Dense</span>)                   │ (<span style=\"color: #00d7ff; text-decoration-color: #00d7ff\">None</span>, <span style=\"color: #00af00; text-decoration-color: #00af00\">8</span>)              │           <span style=\"color: #00af00; text-decoration-color: #00af00\">208</span> │\n",
       "├─────────────────────────────────┼────────────────────────┼───────────────┤\n",
       "│ dense_1 (<span style=\"color: #0087ff; text-decoration-color: #0087ff\">Dense</span>)                 │ (<span style=\"color: #00d7ff; text-decoration-color: #00d7ff\">None</span>, <span style=\"color: #00af00; text-decoration-color: #00af00\">1</span>)              │             <span style=\"color: #00af00; text-decoration-color: #00af00\">9</span> │\n",
       "└─────────────────────────────────┴────────────────────────┴───────────────┘\n",
       "</pre>\n"
      ],
      "text/plain": [
       "┏━━━━━━━━━━━━━━━━━━━━━━━━━━━━━━━━━┳━━━━━━━━━━━━━━━━━━━━━━━━┳━━━━━━━━━━━━━━━┓\n",
       "┃\u001b[1m \u001b[0m\u001b[1mLayer (type)                   \u001b[0m\u001b[1m \u001b[0m┃\u001b[1m \u001b[0m\u001b[1mOutput Shape          \u001b[0m\u001b[1m \u001b[0m┃\u001b[1m \u001b[0m\u001b[1m      Param #\u001b[0m\u001b[1m \u001b[0m┃\n",
       "┡━━━━━━━━━━━━━━━━━━━━━━━━━━━━━━━━━╇━━━━━━━━━━━━━━━━━━━━━━━━╇━━━━━━━━━━━━━━━┩\n",
       "│ dense (\u001b[38;5;33mDense\u001b[0m)                   │ (\u001b[38;5;45mNone\u001b[0m, \u001b[38;5;34m8\u001b[0m)              │           \u001b[38;5;34m208\u001b[0m │\n",
       "├─────────────────────────────────┼────────────────────────┼───────────────┤\n",
       "│ dense_1 (\u001b[38;5;33mDense\u001b[0m)                 │ (\u001b[38;5;45mNone\u001b[0m, \u001b[38;5;34m1\u001b[0m)              │             \u001b[38;5;34m9\u001b[0m │\n",
       "└─────────────────────────────────┴────────────────────────┴───────────────┘\n"
      ]
     },
     "metadata": {},
     "output_type": "display_data"
    },
    {
     "data": {
      "text/html": [
       "<pre style=\"white-space:pre;overflow-x:auto;line-height:normal;font-family:Menlo,'DejaVu Sans Mono',consolas,'Courier New',monospace\"><span style=\"font-weight: bold\"> Total params: </span><span style=\"color: #00af00; text-decoration-color: #00af00\">217</span> (868.00 B)\n",
       "</pre>\n"
      ],
      "text/plain": [
       "\u001b[1m Total params: \u001b[0m\u001b[38;5;34m217\u001b[0m (868.00 B)\n"
      ]
     },
     "metadata": {},
     "output_type": "display_data"
    },
    {
     "data": {
      "text/html": [
       "<pre style=\"white-space:pre;overflow-x:auto;line-height:normal;font-family:Menlo,'DejaVu Sans Mono',consolas,'Courier New',monospace\"><span style=\"font-weight: bold\"> Trainable params: </span><span style=\"color: #00af00; text-decoration-color: #00af00\">217</span> (868.00 B)\n",
       "</pre>\n"
      ],
      "text/plain": [
       "\u001b[1m Trainable params: \u001b[0m\u001b[38;5;34m217\u001b[0m (868.00 B)\n"
      ]
     },
     "metadata": {},
     "output_type": "display_data"
    },
    {
     "data": {
      "text/html": [
       "<pre style=\"white-space:pre;overflow-x:auto;line-height:normal;font-family:Menlo,'DejaVu Sans Mono',consolas,'Courier New',monospace\"><span style=\"font-weight: bold\"> Non-trainable params: </span><span style=\"color: #00af00; text-decoration-color: #00af00\">0</span> (0.00 B)\n",
       "</pre>\n"
      ],
      "text/plain": [
       "\u001b[1m Non-trainable params: \u001b[0m\u001b[38;5;34m0\u001b[0m (0.00 B)\n"
      ]
     },
     "metadata": {},
     "output_type": "display_data"
    }
   ],
   "source": [
    "import matplotlib.pyplot as pl\n",
    "from sklearn.preprocessing import StandardScaler\n",
    "import keras\n",
    "from keras import layers\n",
    "from sklearn.model_selection import KFold\n",
    "def create_model():\n",
    "  # 2 inputs\n",
    "  # 2 hidden nodes\n",
    "  # 1 output\n",
    "\n",
    "  mlp = keras.Sequential([\n",
    "      layers.Input((25,)),\n",
    "      layers.Dense(8, activation=\"tanh\"), # Try different numbers of hidden neurons here (e.g. 2, 4, 8, 32, 128)\n",
    "      layers.Dense(1, activation=\"tanh\"),\n",
    "  ])\n",
    "\n",
    "  # Experiment with hyperparameters here:\n",
    "  # momentum: [0, 0.8, 0.9, 0.99]\n",
    "  # learning_rate: [0.1, 0.01, 0.001, 0.0001]\n",
    "  mlp.compile(\n",
    "      optimizer=keras.optimizers.SGD(learning_rate=0.01, momentum=0.99),  #0.01\n",
    "      loss=\"mse\",\n",
    "  )\n",
    "\n",
    "  return mlp\n",
    "\n",
    "mlp = create_model()\n",
    "mlp.summary()"
   ]
  },
  {
   "cell_type": "code",
   "execution_count": 8,
   "metadata": {},
   "outputs": [
    {
     "name": "stdout",
     "output_type": "stream",
     "text": [
      "Epoch 1/10\n",
      "\u001b[1m852/852\u001b[0m \u001b[32m━━━━━━━━━━━━━━━━━━━━\u001b[0m\u001b[37m\u001b[0m \u001b[1m2s\u001b[0m 2ms/step - loss: 0.4754 - val_loss: 0.4273\n",
      "Epoch 2/10\n",
      "\u001b[1m852/852\u001b[0m \u001b[32m━━━━━━━━━━━━━━━━━━━━\u001b[0m\u001b[37m\u001b[0m \u001b[1m1s\u001b[0m 2ms/step - loss: 0.4057 - val_loss: 0.3784\n",
      "Epoch 3/10\n",
      "\u001b[1m852/852\u001b[0m \u001b[32m━━━━━━━━━━━━━━━━━━━━\u001b[0m\u001b[37m\u001b[0m \u001b[1m1s\u001b[0m 2ms/step - loss: 0.3834 - val_loss: 0.3860\n",
      "Epoch 4/10\n",
      "\u001b[1m852/852\u001b[0m \u001b[32m━━━━━━━━━━━━━━━━━━━━\u001b[0m\u001b[37m\u001b[0m \u001b[1m1s\u001b[0m 2ms/step - loss: 0.3801 - val_loss: 0.3812\n",
      "Epoch 5/10\n",
      "\u001b[1m852/852\u001b[0m \u001b[32m━━━━━━━━━━━━━━━━━━━━\u001b[0m\u001b[37m\u001b[0m \u001b[1m2s\u001b[0m 2ms/step - loss: 0.3754 - val_loss: 0.3830\n",
      "Epoch 6/10\n",
      "\u001b[1m852/852\u001b[0m \u001b[32m━━━━━━━━━━━━━━━━━━━━\u001b[0m\u001b[37m\u001b[0m \u001b[1m1s\u001b[0m 2ms/step - loss: 0.3722 - val_loss: 0.3795\n",
      "Epoch 7/10\n",
      "\u001b[1m852/852\u001b[0m \u001b[32m━━━━━━━━━━━━━━━━━━━━\u001b[0m\u001b[37m\u001b[0m \u001b[1m1s\u001b[0m 2ms/step - loss: 0.3634 - val_loss: 0.3990\n",
      "Epoch 8/10\n",
      "\u001b[1m852/852\u001b[0m \u001b[32m━━━━━━━━━━━━━━━━━━━━\u001b[0m\u001b[37m\u001b[0m \u001b[1m2s\u001b[0m 2ms/step - loss: 0.3900 - val_loss: 0.4200\n",
      "Epoch 9/10\n",
      "\u001b[1m852/852\u001b[0m \u001b[32m━━━━━━━━━━━━━━━━━━━━\u001b[0m\u001b[37m\u001b[0m \u001b[1m1s\u001b[0m 2ms/step - loss: 0.3811 - val_loss: 0.3663\n",
      "Epoch 10/10\n",
      "\u001b[1m852/852\u001b[0m \u001b[32m━━━━━━━━━━━━━━━━━━━━\u001b[0m\u001b[37m\u001b[0m \u001b[1m1s\u001b[0m 2ms/step - loss: 0.3683 - val_loss: 0.4376\n"
     ]
    },
    {
     "data": {
      "image/png": "[encoded data removed]",
      "text/plain": [
       "<Figure size 576x432 with 1 Axes>"
      ]
     },
     "metadata": {
      "needs_background": "light"
     },
     "output_type": "display_data"
    },
    {
     "name": "stdout",
     "output_type": "stream",
     "text": [
      "Mean F1 Score across all folds: 0.8348794063079777\n",
      "Epoch 1/10\n",
      "\u001b[1m852/852\u001b[0m \u001b[32m━━━━━━━━━━━━━━━━━━━━\u001b[0m\u001b[37m\u001b[0m \u001b[1m2s\u001b[0m 2ms/step - loss: 0.5261 - val_loss: 0.4575\n",
      "Epoch 2/10\n",
      "\u001b[1m852/852\u001b[0m \u001b[32m━━━━━━━━━━━━━━━━━━━━\u001b[0m\u001b[37m\u001b[0m \u001b[1m1s\u001b[0m 2ms/step - loss: 0.4583 - val_loss: 0.4531\n",
      "Epoch 3/10\n",
      "\u001b[1m852/852\u001b[0m \u001b[32m━━━━━━━━━━━━━━━━━━━━\u001b[0m\u001b[37m\u001b[0m \u001b[1m1s\u001b[0m 1ms/step - loss: 0.4560 - val_loss: 0.3849\n",
      "Epoch 4/10\n",
      "\u001b[1m852/852\u001b[0m \u001b[32m━━━━━━━━━━━━━━━━━━━━\u001b[0m\u001b[37m\u001b[0m \u001b[1m1s\u001b[0m 1ms/step - loss: 0.4077 - val_loss: 0.3929\n",
      "Epoch 5/10\n",
      "\u001b[1m852/852\u001b[0m \u001b[32m━━━━━━━━━━━━━━━━━━━━\u001b[0m\u001b[37m\u001b[0m \u001b[1m1s\u001b[0m 1ms/step - loss: 0.3923 - val_loss: 0.3858\n",
      "Epoch 6/10\n",
      "\u001b[1m852/852\u001b[0m \u001b[32m━━━━━━━━━━━━━━━━━━━━\u001b[0m\u001b[37m\u001b[0m \u001b[1m1s\u001b[0m 1ms/step - loss: 0.3885 - val_loss: 0.3897\n",
      "Epoch 7/10\n",
      "\u001b[1m852/852\u001b[0m \u001b[32m━━━━━━━━━━━━━━━━━━━━\u001b[0m\u001b[37m\u001b[0m \u001b[1m2s\u001b[0m 2ms/step - loss: 0.3934 - val_loss: 0.3649\n",
      "Epoch 8/10\n",
      "\u001b[1m852/852\u001b[0m \u001b[32m━━━━━━━━━━━━━━━━━━━━\u001b[0m\u001b[37m\u001b[0m \u001b[1m1s\u001b[0m 2ms/step - loss: 0.3789 - val_loss: 0.3973\n",
      "Epoch 9/10\n",
      "\u001b[1m852/852\u001b[0m \u001b[32m━━━━━━━━━━━━━━━━━━━━\u001b[0m\u001b[37m\u001b[0m \u001b[1m2s\u001b[0m 2ms/step - loss: 0.3888 - val_loss: 0.3939\n",
      "Epoch 10/10\n",
      "\u001b[1m852/852\u001b[0m \u001b[32m━━━━━━━━━━━━━━━━━━━━\u001b[0m\u001b[37m\u001b[0m \u001b[1m2s\u001b[0m 2ms/step - loss: 0.3778 - val_loss: 0.3952\n"
     ]
    },
    {
     "data": {
      "image/png": "[encoded data removed]",
      "text/plain": [
       "<Figure size 576x432 with 1 Axes>"
      ]
     },
     "metadata": {
      "needs_background": "light"
     },
     "output_type": "display_data"
    },
    {
     "name": "stdout",
     "output_type": "stream",
     "text": [
      "Mean F1 Score across all folds: 0.8425826674363551\n",
      "Epoch 1/10\n",
      "\u001b[1m852/852\u001b[0m \u001b[32m━━━━━━━━━━━━━━━━━━━━\u001b[0m\u001b[37m\u001b[0m \u001b[1m2s\u001b[0m 2ms/step - loss: 0.5126 - val_loss: 0.4656\n",
      "Epoch 2/10\n",
      "\u001b[1m852/852\u001b[0m \u001b[32m━━━━━━━━━━━━━━━━━━━━\u001b[0m\u001b[37m\u001b[0m \u001b[1m2s\u001b[0m 2ms/step - loss: 0.4581 - val_loss: 0.4350\n",
      "Epoch 3/10\n",
      "\u001b[1m852/852\u001b[0m \u001b[32m━━━━━━━━━━━━━━━━━━━━\u001b[0m\u001b[37m\u001b[0m \u001b[1m1s\u001b[0m 2ms/step - loss: 0.4288 - val_loss: 0.4326\n",
      "Epoch 4/10\n",
      "\u001b[1m852/852\u001b[0m \u001b[32m━━━━━━━━━━━━━━━━━━━━\u001b[0m\u001b[37m\u001b[0m \u001b[1m2s\u001b[0m 2ms/step - loss: 0.4101 - val_loss: 0.4242\n",
      "Epoch 5/10\n",
      "\u001b[1m852/852\u001b[0m \u001b[32m━━━━━━━━━━━━━━━━━━━━\u001b[0m\u001b[37m\u001b[0m \u001b[1m1s\u001b[0m 2ms/step - loss: 0.4161 - val_loss: 0.3876\n",
      "Epoch 6/10\n",
      "\u001b[1m852/852\u001b[0m \u001b[32m━━━━━━━━━━━━━━━━━━━━\u001b[0m\u001b[37m\u001b[0m \u001b[1m1s\u001b[0m 2ms/step - loss: 0.4063 - val_loss: 0.4215\n",
      "Epoch 7/10\n",
      "\u001b[1m852/852\u001b[0m \u001b[32m━━━━━━━━━━━━━━━━━━━━\u001b[0m\u001b[37m\u001b[0m \u001b[1m2s\u001b[0m 2ms/step - loss: 0.3934 - val_loss: 0.4038\n",
      "Epoch 8/10\n",
      "\u001b[1m852/852\u001b[0m \u001b[32m━━━━━━━━━━━━━━━━━━━━\u001b[0m\u001b[37m\u001b[0m \u001b[1m1s\u001b[0m 2ms/step - loss: 0.3802 - val_loss: 0.3853\n",
      "Epoch 9/10\n",
      "\u001b[1m852/852\u001b[0m \u001b[32m━━━━━━━━━━━━━━━━━━━━\u001b[0m\u001b[37m\u001b[0m \u001b[1m1s\u001b[0m 2ms/step - loss: 0.4129 - val_loss: 0.4461\n",
      "Epoch 10/10\n",
      "\u001b[1m852/852\u001b[0m \u001b[32m━━━━━━━━━━━━━━━━━━━━\u001b[0m\u001b[37m\u001b[0m \u001b[1m1s\u001b[0m 2ms/step - loss: 0.4040 - val_loss: 0.4201\n"
     ]
    },
    {
     "data": {
      "image/png": "[encoded data removed]",
      "text/plain": [
       "<Figure size 576x432 with 1 Axes>"
      ]
     },
     "metadata": {
      "needs_background": "light"
     },
     "output_type": "display_data"
    },
    {
     "name": "stdout",
     "output_type": "stream",
     "text": [
      "Mean F1 Score across all folds: 0.8416551884586586\n"
     ]
    }
   ],
   "source": [
    "import matplotlib.pyplot as pl\n",
    "from sklearn.preprocessing import StandardScaler\n",
    "import keras\n",
    "from keras import layers\n",
    "from sklearn.model_selection import KFold\n",
    "import numpy as np\n",
    "from sklearn.metrics import confusion_matrix\n",
    "import seaborn as sns\n",
    "from sklearn.metrics import f1_score\n",
    "\n",
    "\n",
    "\n",
    "def plot_confusion_matrix(confusion_matrix, title):\n",
    "    # Plot confusion matrix\n",
    "    pl.figure(figsize=(8, 6))\n",
    "    sns.heatmap(confusion_matrix.astype(int), annot=True, fmt=\"d\", cmap=\"Blues\", cbar=False,\n",
    "                xticklabels=[\"Négatif predit\", \"Positif prédit\"], yticklabels=[\"Négatif réel\", \"Positif réel\"])\n",
    "    pl.title(title)\n",
    "    pl.xlabel('Predicted')\n",
    "    pl.ylabel('True')\n",
    "    pl.show()\n",
    "\n",
    "\n",
    "history_list = []\n",
    "trained_mlp = []\n",
    "f1_scores = []\n",
    "\n",
    "scaler = StandardScaler()\n",
    "data_train_normalized = scaler.fit_transform(data_train.iloc[:,1:])\n",
    "data_train_normalized.shape\n",
    "\n",
    "keras.utils.set_random_seed(123)\n",
    "kf = KFold(n_splits=3, shuffle=True)\n",
    "\n",
    "for i, (train_index, test_index) in enumerate(kf.split(data_train_normalized)):\n",
    "  \n",
    "  input_data = np.float32(data_train_normalized)[train_index]\n",
    "  output_data = np.float32(data_train['state'].to_numpy())[train_index]\n",
    "\n",
    "  input_data_val = np.float32(data_train_normalized)[test_index]\n",
    "  output_data_val = np.float32(data_train['state'].to_numpy())[test_index]\n",
    "    # We need to create a new model everytime otherwise fit will continue previous training\n",
    "  mlp = create_model()\n",
    "\n",
    "  history = mlp.fit(\n",
    "      x = input_data,\n",
    "      y = output_data,\n",
    "      validation_data =(input_data_val, output_data_val),\n",
    "      epochs=10\n",
    "  )\n",
    "\n",
    "  pred_validation_classes = mlp(input_data_val) > 0\n",
    "  output_data_val_classes = output_data_val > 0\n",
    "\n",
    "  cm = confusion_matrix(output_data_val_classes, pred_validation_classes)\n",
    "  plot_confusion_matrix(cm, \"Ex 1: Confusion matrix\")\n",
    "\n",
    "  f1 = f1_score(output_data_val_classes, pred_validation_classes)\n",
    "  f1_scores.append(f1)\n",
    "\n",
    "  history_list.append(history)\n",
    "  trained_mlp.append(mlp)\n",
    "  mean_f1_score = np.mean(f1_scores)\n",
    "  print(f\"Mean F1 Score across all folds: {mean_f1_score}\")\n"
   ]
  },
  {
   "cell_type": "code",
   "execution_count": 10,
   "metadata": {},
   "outputs": [
    {
     "data": {
      "image/png": "[encoded data removed]",
      "text/plain": [
       "<Figure size 432x288 with 1 Axes>"
      ]
     },
     "metadata": {
      "needs_background": "light"
     },
     "output_type": "display_data"
    }
   ],
   "source": [
    "train_losses = np.array([history.history['loss'] for history in history_list])\n",
    "val_losses = np.array([history.history['val_loss'] for history in history_list])\n",
    "\n",
    "# Calculate mean and standard deviation for training and validation losses\n",
    "mean_train_loss = np.mean(train_losses, axis=0)\n",
    "std_train_loss = np.std(train_losses, axis=0)\n",
    "mean_val_loss = np.mean(val_losses, axis=0)\n",
    "std_val_loss = np.std(val_losses, axis=0)\n",
    "\n",
    "# Plot mean and standard deviation for training loss\n",
    "pl.plot(mean_train_loss, label='Training Loss (Mean)')\n",
    "pl.fill_between(range(len(mean_train_loss)), mean_train_loss - std_train_loss, mean_train_loss + std_train_loss, alpha=0.3, label='Training Loss (Std)')\n",
    "\n",
    "# Plot mean and standard deviation for validation loss\n",
    "pl.plot(mean_val_loss, label='Validation Loss (Mean)')\n",
    "pl.fill_between(range(len(mean_val_loss)), mean_val_loss - std_val_loss, mean_val_loss + std_val_loss, alpha=0.3, label='Validation Loss (Std)')\n",
    "\n",
    "# Add labels and legend\n",
    "pl.xlabel('Epochs')\n",
    "pl.ylabel('Loss')\n",
    "pl.legend()\n",
    "\n",
    "# Display the plot\n",
    "pl.show()"
   ]
  },
  {
   "cell_type": "code",
   "execution_count": 9,
   "metadata": {},
   "outputs": [
    {
     "name": "stdout",
     "output_type": "stream",
     "text": [
      "[[-0.18343417 -0.32579064 -0.23051824 ...  0.25126752 -0.8361579\n",
      "   0.3511537 ]\n",
      " [-0.14338918  3.6835458   1.3901839  ... -0.80473274 -0.64538926\n",
      "  -0.8962209 ]\n",
      " [-0.4432612   0.9470617   2.0703652  ... -0.86411965  0.40952182\n",
      "  -0.22842495]\n",
      " ...\n",
      " [-0.00800736  0.03031475 -0.27180138 ... -0.2164546  -0.07150355\n",
      "  -1.2476485 ]\n",
      " [ 0.4009102  -0.46575662 -0.5250522  ...  0.7261015  -0.4796933\n",
      "  -0.4147713 ]\n",
      " [-0.06242886 -0.08534876  0.37593293 ...  0.10716878 -0.0943504\n",
      "   0.6374694 ]]\n"
     ]
    }
   ],
   "source": [
    "print(input_data)"
   ]
  },
  {
   "cell_type": "markdown",
   "metadata": {},
   "source": [
    "# Exercice 2"
   ]
  },
  {
   "cell_type": "code",
   "execution_count": 12,
   "metadata": {},
   "outputs": [
    {
     "name": "stderr",
     "output_type": "stream",
     "text": [
      "C:\\Users\\emily\\AppData\\Local\\Temp\\ipykernel_21076\\1132775964.py:2: SettingWithCopyWarning: \n",
      "A value is trying to be set on a copy of a slice from a DataFrame\n",
      "\n",
      "See the caveats in the documentation: https://pandas.pydata.org/pandas-docs/stable/user_guide/indexing.html#returning-a-view-versus-a-copy\n",
      "  data_train_2[\"state\"][data_train_2[\"state\"] == \"w\"] = 1\n",
      "C:\\Users\\emily\\AppData\\Local\\Temp\\ipykernel_21076\\1132775964.py:3: SettingWithCopyWarning: \n",
      "A value is trying to be set on a copy of a slice from a DataFrame\n",
      "\n",
      "See the caveats in the documentation: https://pandas.pydata.org/pandas-docs/stable/user_guide/indexing.html#returning-a-view-versus-a-copy\n",
      "  data_train_2[\"state\"][data_train_2[\"state\"] == \"n\"] = 2\n",
      "C:\\Users\\emily\\AppData\\Local\\Temp\\ipykernel_21076\\1132775964.py:4: SettingWithCopyWarning: \n",
      "A value is trying to be set on a copy of a slice from a DataFrame\n",
      "\n",
      "See the caveats in the documentation: https://pandas.pydata.org/pandas-docs/stable/user_guide/indexing.html#returning-a-view-versus-a-copy\n",
      "  data_train_2[\"state\"][data_train_2[\"state\"] == \"r\"] = 3\n"
     ]
    }
   ],
   "source": [
    "data_train_2 = mice_eeg_total.iloc[:, :26]\n",
    "data_train_2[\"state\"][data_train_2[\"state\"] == \"w\"] = 1\n",
    "data_train_2[\"state\"][data_train_2[\"state\"] == \"n\"] = 2\n",
    "data_train_2[\"state\"][data_train_2[\"state\"] == \"r\"] = 3"
   ]
  },
  {
   "cell_type": "code",
   "execution_count": 11,
   "metadata": {},
   "outputs": [
    {
     "data": {
      "text/html": [
       "<pre style=\"white-space:pre;overflow-x:auto;line-height:normal;font-family:Menlo,'DejaVu Sans Mono',consolas,'Courier New',monospace\"><span style=\"font-weight: bold\">Model: \"sequential_4\"</span>\n",
       "</pre>\n"
      ],
      "text/plain": [
       "\u001b[1mModel: \"sequential_4\"\u001b[0m\n"
      ]
     },
     "metadata": {},
     "output_type": "display_data"
    },
    {
     "data": {
      "text/html": [
       "<pre style=\"white-space:pre;overflow-x:auto;line-height:normal;font-family:Menlo,'DejaVu Sans Mono',consolas,'Courier New',monospace\">┏━━━━━━━━━━━━━━━━━━━━━━━━━━━━━━━━━┳━━━━━━━━━━━━━━━━━━━━━━━━┳━━━━━━━━━━━━━━━┓\n",
       "┃<span style=\"font-weight: bold\"> Layer (type)                    </span>┃<span style=\"font-weight: bold\"> Output Shape           </span>┃<span style=\"font-weight: bold\">       Param # </span>┃\n",
       "┡━━━━━━━━━━━━━━━━━━━━━━━━━━━━━━━━━╇━━━━━━━━━━━━━━━━━━━━━━━━╇━━━━━━━━━━━━━━━┩\n",
       "│ dense_8 (<span style=\"color: #0087ff; text-decoration-color: #0087ff\">Dense</span>)                 │ (<span style=\"color: #00d7ff; text-decoration-color: #00d7ff\">None</span>, <span style=\"color: #00af00; text-decoration-color: #00af00\">8</span>)              │           <span style=\"color: #00af00; text-decoration-color: #00af00\">208</span> │\n",
       "├─────────────────────────────────┼────────────────────────┼───────────────┤\n",
       "│ dense_9 (<span style=\"color: #0087ff; text-decoration-color: #0087ff\">Dense</span>)                 │ (<span style=\"color: #00d7ff; text-decoration-color: #00d7ff\">None</span>, <span style=\"color: #00af00; text-decoration-color: #00af00\">1</span>)              │             <span style=\"color: #00af00; text-decoration-color: #00af00\">9</span> │\n",
       "└─────────────────────────────────┴────────────────────────┴───────────────┘\n",
       "</pre>\n"
      ],
      "text/plain": [
       "┏━━━━━━━━━━━━━━━━━━━━━━━━━━━━━━━━━┳━━━━━━━━━━━━━━━━━━━━━━━━┳━━━━━━━━━━━━━━━┓\n",
       "┃\u001b[1m \u001b[0m\u001b[1mLayer (type)                   \u001b[0m\u001b[1m \u001b[0m┃\u001b[1m \u001b[0m\u001b[1mOutput Shape          \u001b[0m\u001b[1m \u001b[0m┃\u001b[1m \u001b[0m\u001b[1m      Param #\u001b[0m\u001b[1m \u001b[0m┃\n",
       "┡━━━━━━━━━━━━━━━━━━━━━━━━━━━━━━━━━╇━━━━━━━━━━━━━━━━━━━━━━━━╇━━━━━━━━━━━━━━━┩\n",
       "│ dense_8 (\u001b[38;5;33mDense\u001b[0m)                 │ (\u001b[38;5;45mNone\u001b[0m, \u001b[38;5;34m8\u001b[0m)              │           \u001b[38;5;34m208\u001b[0m │\n",
       "├─────────────────────────────────┼────────────────────────┼───────────────┤\n",
       "│ dense_9 (\u001b[38;5;33mDense\u001b[0m)                 │ (\u001b[38;5;45mNone\u001b[0m, \u001b[38;5;34m1\u001b[0m)              │             \u001b[38;5;34m9\u001b[0m │\n",
       "└─────────────────────────────────┴────────────────────────┴───────────────┘\n"
      ]
     },
     "metadata": {},
     "output_type": "display_data"
    },
    {
     "data": {
      "text/html": [
       "<pre style=\"white-space:pre;overflow-x:auto;line-height:normal;font-family:Menlo,'DejaVu Sans Mono',consolas,'Courier New',monospace\"><span style=\"font-weight: bold\"> Total params: </span><span style=\"color: #00af00; text-decoration-color: #00af00\">217</span> (868.00 B)\n",
       "</pre>\n"
      ],
      "text/plain": [
       "\u001b[1m Total params: \u001b[0m\u001b[38;5;34m217\u001b[0m (868.00 B)\n"
      ]
     },
     "metadata": {},
     "output_type": "display_data"
    },
    {
     "data": {
      "text/html": [
       "<pre style=\"white-space:pre;overflow-x:auto;line-height:normal;font-family:Menlo,'DejaVu Sans Mono',consolas,'Courier New',monospace\"><span style=\"font-weight: bold\"> Trainable params: </span><span style=\"color: #00af00; text-decoration-color: #00af00\">217</span> (868.00 B)\n",
       "</pre>\n"
      ],
      "text/plain": [
       "\u001b[1m Trainable params: \u001b[0m\u001b[38;5;34m217\u001b[0m (868.00 B)\n"
      ]
     },
     "metadata": {},
     "output_type": "display_data"
    },
    {
     "data": {
      "text/html": [
       "<pre style=\"white-space:pre;overflow-x:auto;line-height:normal;font-family:Menlo,'DejaVu Sans Mono',consolas,'Courier New',monospace\"><span style=\"font-weight: bold\"> Non-trainable params: </span><span style=\"color: #00af00; text-decoration-color: #00af00\">0</span> (0.00 B)\n",
       "</pre>\n"
      ],
      "text/plain": [
       "\u001b[1m Non-trainable params: \u001b[0m\u001b[38;5;34m0\u001b[0m (0.00 B)\n"
      ]
     },
     "metadata": {},
     "output_type": "display_data"
    }
   ],
   "source": [
    "def create_model_2():\n",
    "  # 2 inputs\n",
    "  # 2 hidden nodes\n",
    "  # 1 output\n",
    "\n",
    "  mlp = keras.Sequential([\n",
    "      layers.Input((25,)),\n",
    "      layers.Dense(3, activation=\"sigmoid\"), # Try different numbers of hidden neurons here (e.g. 2, 4, 8, 32, 128)\n",
    "      layers.Dense(3, activation=\"softmax\"),\n",
    "  ])\n",
    "\n",
    "  # Experiment with hyperparameters here:\n",
    "  # momentum: [0, 0.8, 0.9, 0.99]\n",
    "  # learning_rate: [0.1, 0.01, 0.001, 0.0001]\n",
    "  mlp.compile(\n",
    "      optimizer=keras.optimizers.SGD(learning_rate=0.01, momentum=0.99),  #0.01\n",
    "      loss=\"mse\",\n",
    "  )\n",
    "\n",
    "  return mlp\n",
    "\n",
    "mlp_2 = create_model()\n",
    "mlp_2.summary()"
   ]
  },
  {
   "cell_type": "code",
   "execution_count": 12,
   "metadata": {},
   "outputs": [
    {
     "ename": "NameError",
     "evalue": "name 'data_train_2' is not defined",
     "output_type": "error",
     "traceback": [
      "\u001b[1;31m---------------------------------------------------------------------------\u001b[0m",
      "\u001b[1;31mNameError\u001b[0m                                 Traceback (most recent call last)",
      "Input \u001b[1;32mIn [12]\u001b[0m, in \u001b[0;36m<cell line: 6>\u001b[1;34m()\u001b[0m\n\u001b[0;32m      2\u001b[0m trained_mlp_3classes \u001b[38;5;241m=\u001b[39m []\n\u001b[0;32m      5\u001b[0m scaler \u001b[38;5;241m=\u001b[39m StandardScaler()\n\u001b[1;32m----> 6\u001b[0m data_train_normalized_2 \u001b[38;5;241m=\u001b[39m scaler\u001b[38;5;241m.\u001b[39mfit_transform(\u001b[43mdata_train_2\u001b[49m\u001b[38;5;241m.\u001b[39miloc[:,\u001b[38;5;241m1\u001b[39m:])\n\u001b[0;32m      7\u001b[0m data_train_normalized_2\u001b[38;5;241m.\u001b[39mshape\n\u001b[0;32m     10\u001b[0m keras\u001b[38;5;241m.\u001b[39mutils\u001b[38;5;241m.\u001b[39mset_random_seed(\u001b[38;5;241m123\u001b[39m)\n",
      "\u001b[1;31mNameError\u001b[0m: name 'data_train_2' is not defined"
     ]
    }
   ],
   "source": [
    "history_list_3classes = []\n",
    "trained_mlp_3classes = []\n",
    "\n",
    "\n",
    "scaler = StandardScaler()\n",
    "data_train_normalized_2 = scaler.fit_transform(data_train_2.iloc[:,1:])\n",
    "data_train_normalized_2.shape\n",
    "\n",
    "\n",
    "keras.utils.set_random_seed(123)\n",
    "kf = KFold(n_splits=3, shuffle=True)\n",
    "\n",
    "for i, (train_index, test_index) in enumerate(kf.split(data_train_normalized_2)):\n",
    "  \n",
    "  input_data = np.float32(data_train_normalized_2)[train_index]\n",
    "  output_data = np.float32(data_train_2['state'].to_numpy())[train_index]\n",
    "\n",
    "  input_data_val = np.float32(data_train_normalized_2)[test_index]\n",
    "  output_data_val = np.float32(data_train_2['state'].to_numpy())[test_index]\n",
    "    # We need to create a new model everytime otherwise fit will continue previous training\n",
    "  mlp = create_model()\n",
    "\n",
    "  history = mlp.fit(\n",
    "      x = input_data,\n",
    "      y = output_data,\n",
    "      validation_data =(input_data_val, output_data_val),\n",
    "      epochs=1\n",
    "  )\n",
    "\n",
    "  pred_validation_classes = mlp(input_data_val) > 0\n",
    "  output_data_val_classes = output_data_val > 0\n",
    "\n",
    "  cm = confusion_matrix(output_data_val_classes, pred_validation_classes)\n",
    "  plot_confusion_matrix(cm, \"Ex 2: Confusion matrix\")\n",
    "\n",
    "  history_list.append(history)\n",
    "  trained_mlp.append(mlp)"
   ]
  }
 ],
 "metadata": {
  "kernelspec": {
   "display_name": "base",
   "language": "python",
   "name": "python3"
  },
  "language_info": {
   "codemirror_mode": {
    "name": "ipython",
    "version": 3
   },
   "file_extension": ".py",
   "mimetype": "text/x-python",
   "name": "python",
   "nbconvert_exporter": "python",
   "pygments_lexer": "ipython3",
   "version": "3.9.12"
  },
  "orig_nbformat": 4
 },
 "nbformat": 4,
 "nbformat_minor": 2
}
