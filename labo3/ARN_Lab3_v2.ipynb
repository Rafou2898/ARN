{
 "cells": [
  {
   "cell_type": "markdown",
   "metadata": {},
   "source": [
    "# ARN - Practical Work 3 - Mice's sleep stages classification with MLP\n",
    "Students :\n",
    "- Baquerizo Emily\n",
    "- Dousse Rafael"
   ]
  },
  {
   "cell_type": "markdown",
   "metadata": {},
   "source": [
    "## Exercice 1"
   ]
  },
  {
   "cell_type": "code",
   "execution_count": null,
   "metadata": {},
   "outputs": [],
   "source": [
    "#importation of library\n",
    "import pandas as pd\n",
    "import numpy as np\n",
    "import matplotlib.pyplot as pl\n",
    "import keras\n",
    "import seaborn as sns\n",
    "\n",
    "from sklearn.preprocessing import StandardScaler\n",
    "from keras import layers\n",
    "from sklearn.model_selection import KFold\n",
    "from sklearn.metrics import confusion_matrix\n",
    "from sklearn.metrics import f1_score\n",
    "from keras.utils import to_categorical"
   ]
  },
  {
   "cell_type": "code",
   "execution_count": null,
   "metadata": {},
   "outputs": [],
   "source": [
    "mice_eeg_1 = pd.read_csv('pw3_data/EEG_mouse_data_1.csv')\n",
    "\n",
    "mice_egg_2 = pd.read_csv('pw3_data/EEG_mouse_data_2.csv')\n",
    "\n",
    "mice_eeg_total = pd.concat([mice_eeg_1, mice_egg_2])"
   ]
  },
  {
   "cell_type": "code",
   "execution_count": null,
   "metadata": {},
   "outputs": [],
   "source": [
    "data_train_1 = mice_eeg_total.iloc[:, :26]\n"
   ]
  },
  {
   "cell_type": "code",
   "execution_count": null,
   "metadata": {},
   "outputs": [],
   "source": [
    "# data_train preparation\n",
    "data_train_1[\"state\"][data_train_1[\"state\"] == \"w\"] = -1\n",
    "data_train_1[\"state\"][data_train_1[\"state\"] != -1] = 1\n",
    "#data_train_1[\"state\"]\n",
    "\n",
    "# data normalization\n",
    "scaler = StandardScaler()\n",
    "data_train_normalized_1 = scaler.fit_transform(data_train_1.iloc[:,1:])\n",
    "#data_train_normalized_1.shape\n"
   ]
  },
  {
   "cell_type": "code",
   "execution_count": null,
   "metadata": {},
   "outputs": [],
   "source": [
    "# %pip install keras\n",
    "# %pip install tensorflow"
   ]
  },
  {
   "cell_type": "code",
   "execution_count": null,
   "metadata": {},
   "outputs": [],
   "source": [
    "def create_model_1():\n",
    "\n",
    "  mlp = keras.Sequential([\n",
    "      layers.Input((25,)),\n",
    "      layers.Dense(4, activation=\"tanh\"), # Try different numbers of hidden neurons here (e.g. 2, 4, 8, 32, 128)\n",
    "      layers.Dense(1, activation=\"tanh\"),\n",
    "  ])\n",
    "\n",
    "  # Experiment with hyperparameters here:\n",
    "  # momentum: [0, 0.8, 0.9, 0.99]\n",
    "  # learning_rate: [0.1, 0.01, 0.001, 0.0001]\n",
    "  mlp.compile(\n",
    "      optimizer=keras.optimizers.SGD(learning_rate=0.01, momentum=0.99),  #0.01\n",
    "      loss=\"mse\",\n",
    "  )\n",
    "\n",
    "  return mlp\n",
    "\n",
    "mlp = create_model_1()\n",
    "mlp.summary()"
   ]
  },
  {
   "cell_type": "code",
   "execution_count": null,
   "metadata": {},
   "outputs": [],
   "source": [
    "keras.utils.set_random_seed(123)\n",
    "kf = KFold(n_splits=3, shuffle=True) \n",
    "\n",
    "def model_train_1(fctn_model, input_data ,output_data):\n",
    "    history_list = []\n",
    "    trained_mlp = []\n",
    "    cm_list = []\n",
    "\n",
    "    for i,(train_index, test_index) in enumerate(kf.split(data_train_normalized_1)) :\n",
    "        mlp = fctn_model()\n",
    "        history = mlp.fit(\n",
    "            x = np.float32(input_data)[train_index],\n",
    "            y = np.float32(output_data.to_numpy())[train_index],\n",
    "            validation_data = (np.float32(input_data)[test_index], np.float32(output_data.to_numpy())[test_index]),\n",
    "            epochs = 50\n",
    "        )\n",
    "\n",
    "        cm = confusion_matrix(np.float32(output_data.to_numpy())[test_index] > 0, mlp(np.float32(input_data)[test_index]) > 0)\n",
    "\n",
    "        history_list.append(history)\n",
    "        trained_mlp.append(mlp)\n",
    "        cm_list.append(cm)\n",
    "\n",
    "    return history_list, trained_mlp, train_index, test_index, cm_list"
   ]
  },
  {
   "cell_type": "code",
   "execution_count": null,
   "metadata": {},
   "outputs": [],
   "source": [
    "input_data_1 = data_train_normalized_1\n",
    "output_data_1 = data_train_1['state']\n",
    "\n",
    "history_list_1, trained_mlp_1, train_index_1, test_index_1, cm_list_1 = model_train_1(create_model_1, input_data_1, output_data_1)"
   ]
  },
  {
   "cell_type": "code",
   "execution_count": null,
   "metadata": {},
   "outputs": [],
   "source": [
    "# Plot confusion matrix\n",
    "def plot_confusion_matrix_1(confusion_matrix, title):\n",
    "    pl.figure(figsize=(8, 6))\n",
    "    sns.heatmap(confusion_matrix.astype(int), annot=True, fmt=\"d\", cmap=\"Blues\", cbar=False,\n",
    "                xticklabels=[\"Négatif predit\", \"Positif prédit\"], yticklabels=[\"Négatif réel\", \"Positif réel\"])\n",
    "    pl.title(title)\n",
    "    pl.xlabel('Predicted')\n",
    "    pl.ylabel('True')\n",
    "    pl.show()\n",
    "\n",
    "\n",
    "for i, cm in enumerate(cm_list_1):\n",
    "    plot_confusion_matrix_1(cm, title=f\"Ex1 : Fold {i+1}\")"
   ]
  },
  {
   "cell_type": "code",
   "execution_count": null,
   "metadata": {},
   "outputs": [],
   "source": [
    "def plot_history(history_l) :\n",
    "    train_losses = np.array([history.history['loss'] for history in history_l])\n",
    "    val_losses = np.array([history.history['val_loss'] for history in history_l])\n",
    "\n",
    "    # Calculate mean and standard deviation for training and validation losses\n",
    "    mean_train_loss = np.mean(train_losses, axis=0)\n",
    "    std_train_loss = np.std(train_losses, axis=0)\n",
    "    mean_val_loss = np.mean(val_losses, axis=0)\n",
    "    std_val_loss = np.std(val_losses, axis=0)\n",
    "\n",
    "    # Plot mean and standard deviation for training loss\n",
    "    pl.plot(mean_train_loss, label='Training Loss (Mean)')\n",
    "    pl.fill_between(range(len(mean_train_loss)), mean_train_loss - std_train_loss, mean_train_loss + std_train_loss, alpha=0.3, label='Training Loss (Std)')\n",
    "\n",
    "    # Plot mean and standard deviation for validation loss\n",
    "    pl.plot(mean_val_loss, label='Validation Loss (Mean)')\n",
    "    pl.fill_between(range(len(mean_val_loss)), mean_val_loss - std_val_loss, mean_val_loss + std_val_loss, alpha=0.3, label='Validation Loss (Std)')\n",
    "\n",
    "    # Add labels and legend\n",
    "    pl.xlabel('Epochs')\n",
    "    pl.ylabel('Loss')\n",
    "    pl.legend()\n",
    "\n",
    "    # Display the plot\n",
    "    pl.show()\n",
    "\n",
    "plot_history(history_list_1)"
   ]
  },
  {
   "cell_type": "code",
   "execution_count": null,
   "metadata": {},
   "outputs": [],
   "source": [
    "#f1 score mean\n",
    "f1_scores_1 = []\n",
    "\n",
    "for i, mlp in enumerate(trained_mlp_1):\n",
    "    y_pred = np.round(mlp.predict(np.float32(input_data_1)[test_index_1]) > 0)\n",
    "    f1 = f1_score(np.float32(output_data_1.to_numpy())[test_index_1] > 0, y_pred)\n",
    "    f1_scores_1.append(f1)\n",
    "\n",
    "f1_mean_1 = np.mean(f1_scores_1)\n",
    "\n",
    "for i, f1 in enumerate(f1_scores_1):\n",
    "    print(f\"Fold {i+1}, F1 Score: {f1}\")\n",
    "\n",
    "print(f\"\\nMean F1 Score: {f1_mean_1}\")"
   ]
  },
  {
   "cell_type": "markdown",
   "metadata": {},
   "source": [
    "## Exercice 2"
   ]
  },
  {
   "cell_type": "code",
   "execution_count": null,
   "metadata": {},
   "outputs": [],
   "source": [
    "data_train_2 = mice_eeg_total.iloc[:, :26]\n",
    "#data_train_2\n",
    "\n",
    "data_train_2[\"state\"][data_train_2[\"state\"] == \"n\"] = 0\n",
    "data_train_2[\"state\"][data_train_2[\"state\"] == \"r\"] = 1\n",
    "data_train_2[\"state\"][data_train_2[\"state\"] == \"w\"] = 2\n",
    "\n",
    "data_train_2[\"state\"]\n",
    "\n",
    "# data normalization\n",
    "scaler_2 = StandardScaler()\n",
    "data_train_normalized_2 = scaler_2.fit_transform(data_train_2.iloc[:,1:])\n",
    "data_train_normalized_2.shape"
   ]
  },
  {
   "cell_type": "code",
   "execution_count": null,
   "metadata": {},
   "outputs": [],
   "source": [
    "def create_model_2():\n",
    "\n",
    "  mlp = keras.Sequential([\n",
    "      layers.Input((25,)),\n",
    "      layers.Dense(4, activation=\"sigmoid\"), # Try different numbers of hidden neurons here (e.g. 2, 4, 8, 32, 128)\n",
    "      layers.Dense(3, activation=\"softmax\"), # softmax because we have 3 classes\n",
    "  ])\n",
    "\n",
    "  # Experiment with hyperparameters here:\n",
    "  # momentum: [0, 0.8, 0.9, 0.99]\n",
    "  # learning_rate: [0.1, 0.01, 0.001, 0.0001]\n",
    "  mlp.compile(\n",
    "      optimizer=keras.optimizers.SGD(learning_rate=0.01, momentum=0.99),  #0.01\n",
    "      loss=\"mse\",\n",
    "  )\n",
    "\n",
    "  return mlp\n",
    "\n",
    "mlp_2 = create_model_2()\n",
    "mlp_2.summary()"
   ]
  },
  {
   "cell_type": "code",
   "execution_count": null,
   "metadata": {},
   "outputs": [],
   "source": [
    "keras.utils.set_random_seed(123)\n",
    "kf = KFold(n_splits=3, shuffle=True)\n",
    "\n",
    "def model_train_2(fctn_model, input_data ,output_data):\n",
    "    history_list = []\n",
    "    trained_mlp = []\n",
    "    cm_list = []\n",
    "\n",
    "    for i,(train_index, test_index) in enumerate(kf.split(data_train_normalized_2)) :\n",
    "        mlp_2 = fctn_model()\n",
    "        history = mlp_2.fit(\n",
    "            x = np.float32(input_data)[train_index],\n",
    "            y = np.float32(output_data)[train_index],\n",
    "            validation_data = (np.float32(input_data)[test_index], np.float32(output_data)[test_index]),\n",
    "            epochs = 50\n",
    "        )\n",
    "        #cm = confusion_matrix(np.float32(output_data)[test_index], np.round(mlp.predict(np.float32(input_data)[test_index])))\n",
    "    \n",
    "        history_list.append(history)\n",
    "        trained_mlp.append(mlp_2)\n",
    "        #cm_list.append(cm)\n",
    "    #for i, mlp in enumerate(trained_mlp):\n",
    "        #y_pred = mlp.predict(np.float32(input_data)[test_index])\n",
    "        #y_pred = np.round(y_pred)\n",
    "        #y_pred = y_pred.argmax(axis=1)\n",
    "        #print(y_pred)\n",
    "        #np.round(mlp.predict(np.float32(input_data)[test_index]))\n",
    "        #cm = confusion_matrix(output_data[test_index], np.round(mlp.predict(np.float32(input_data)[test_index])))\n",
    "        #cm_list.append(cm)\n",
    "        \n",
    "    return history_list, trained_mlp, train_index, test_index, cm_list"
   ]
  },
  {
   "cell_type": "code",
   "execution_count": null,
   "metadata": {},
   "outputs": [],
   "source": [
    "input_data_2 = data_train_normalized_2\n",
    "output_data_2 = to_categorical(data_train_2[\"state\"])\n",
    "\n",
    "history_list_2, trained_mlp_2, train_index_2, test_index_2, cm_list_2 = model_train_2(create_model_2, input_data_2, output_data_2)"
   ]
  },
  {
   "cell_type": "code",
   "execution_count": null,
   "metadata": {},
   "outputs": [],
   "source": [
    "output_data_2"
   ]
  },
  {
   "cell_type": "code",
   "execution_count": null,
   "metadata": {},
   "outputs": [],
   "source": [
    "def plot_confusion_matrix_2(confusion_matrix, title):\n",
    "    pl.figure(figsize=(8, 6))\n",
    "    sns.heatmap(confusion_matrix.astype(int), annot=True, fmt=\"d\", cmap=\"Blues\", cbar=False,\n",
    "                xticklabels=[\"n predit\", \"r prédit\", \"w prédit\"], yticklabels=[\"n réel\", \"r réel\", \"w réel\"])\n",
    "    pl.title(title)\n",
    "    pl.xlabel('Predicted')\n",
    "    pl.ylabel('True')\n",
    "    pl.show()\n",
    "\n",
    "cm_list_2 = []\n",
    "\n",
    "for i, mlp in enumerate(trained_mlp_2):\n",
    "    y_pred = mlp.predict(input_data_2[test_index_2])\n",
    "    y_pred = np.round(y_pred)\n",
    "    y_pred = y_pred.argmax(axis=1)\n",
    "    y_true = np.argmax(output_data_2[test_index_2], axis=1)\n",
    "    #y_pred = to_categorical(y_pred, num_classes=3)\n",
    "    print(y_pred)\n",
    "    cm = confusion_matrix(y_true, y_pred)\n",
    "    cm_list_2.append(cm)\n",
    "\n",
    "for i, cm in enumerate(cm_list_2):\n",
    "    plot_confusion_matrix_2(cm, title=f\"Ex2 : Fold {i+1}\")"
   ]
  },
  {
   "cell_type": "code",
   "execution_count": null,
   "metadata": {},
   "outputs": [],
   "source": [
    "plot_history(history_list_2)"
   ]
  },
  {
   "cell_type": "code",
   "execution_count": null,
   "metadata": {},
   "outputs": [],
   "source": [
    "#f1 score mean\n",
    "f1_scores_2 = []\n",
    "\n",
    "for i, mlp in enumerate(trained_mlp_2):\n",
    "    y_pred = np.round(mlp.predict(np.float32(input_data_2)[test_index_2]))\n",
    "    f1 = f1_score(np.float32(output_data_2)[test_index_2], y_pred, average='micro')\n",
    "    f1_scores_2.append(f1)\n",
    "\n",
    "f1_mean_2 = np.mean(f1_scores_2)\n",
    "\n",
    "for i, f1 in enumerate(f1_scores_2):\n",
    "    print(f\"Fold {i+1}, F1 Score: {f1}\")\n",
    "\n",
    "print(f\"\\nMean F1 Score: {f1_mean_2}\")"
   ]
  },
  {
   "cell_type": "markdown",
   "metadata": {},
   "source": [
    "## Competition\n"
   ]
  },
  {
   "cell_type": "code",
   "execution_count": null,
   "metadata": {},
   "outputs": [],
   "source": [
    "data_train_3 = mice_eeg_total.iloc[:, :26]\n",
    "#data_train_3\n",
    "\n",
    "data_test = pd.read_csv('pw3_data/EEG_mouse_data_test.csv')"
   ]
  },
  {
   "cell_type": "code",
   "execution_count": null,
   "metadata": {},
   "outputs": [],
   "source": [
    "# data_train preparation\n",
    "data_train_3[\"state\"][data_train_3[\"state\"] == \"n\"] = 0\n",
    "data_train_3[\"state\"][data_train_3[\"state\"] == \"r\"] = 1\n",
    "data_train_3[\"state\"][data_train_3[\"state\"] == \"w\"] = 2\n",
    "\n",
    "#data_train_3[\"state\"]\n",
    "\n",
    "# data normalization\n",
    "scaler_3 = StandardScaler()\n",
    "data_train_normalized_3 = scaler_3.fit_transform(data_train_3.iloc[:,1:])\n",
    "data_train_normalized_3.shape\n",
    "\n",
    "data_test_normalized = scaler_3.transform(data_test.iloc[:,:25])\n",
    "data_test_normalized.shape"
   ]
  },
  {
   "cell_type": "code",
   "execution_count": 81,
   "metadata": {},
   "outputs": [
    {
     "data": {
      "text/html": [
       "<pre style=\"white-space:pre;overflow-x:auto;line-height:normal;font-family:Menlo,'DejaVu Sans Mono',consolas,'Courier New',monospace\"><span style=\"font-weight: bold\">Model: \"sequential_37\"</span>\n",
       "</pre>\n"
      ],
      "text/plain": [
       "\u001b[1mModel: \"sequential_37\"\u001b[0m\n"
      ]
     },
     "metadata": {},
     "output_type": "display_data"
    },
    {
     "data": {
      "text/html": [
       "<pre style=\"white-space:pre;overflow-x:auto;line-height:normal;font-family:Menlo,'DejaVu Sans Mono',consolas,'Courier New',monospace\">┏━━━━━━━━━━━━━━━━━━━━━━━━━━━━━━━━━┳━━━━━━━━━━━━━━━━━━━━━━━━┳━━━━━━━━━━━━━━━┓\n",
       "┃<span style=\"font-weight: bold\"> Layer (type)                    </span>┃<span style=\"font-weight: bold\"> Output Shape           </span>┃<span style=\"font-weight: bold\">       Param # </span>┃\n",
       "┡━━━━━━━━━━━━━━━━━━━━━━━━━━━━━━━━━╇━━━━━━━━━━━━━━━━━━━━━━━━╇━━━━━━━━━━━━━━━┩\n",
       "│ dense_98 (<span style=\"color: #0087ff; text-decoration-color: #0087ff\">Dense</span>)                │ (<span style=\"color: #00d7ff; text-decoration-color: #00d7ff\">None</span>, <span style=\"color: #00af00; text-decoration-color: #00af00\">6</span>)              │           <span style=\"color: #00af00; text-decoration-color: #00af00\">156</span> │\n",
       "├─────────────────────────────────┼────────────────────────┼───────────────┤\n",
       "│ dense_99 (<span style=\"color: #0087ff; text-decoration-color: #0087ff\">Dense</span>)                │ (<span style=\"color: #00d7ff; text-decoration-color: #00d7ff\">None</span>, <span style=\"color: #00af00; text-decoration-color: #00af00\">6</span>)              │            <span style=\"color: #00af00; text-decoration-color: #00af00\">42</span> │\n",
       "├─────────────────────────────────┼────────────────────────┼───────────────┤\n",
       "│ dense_100 (<span style=\"color: #0087ff; text-decoration-color: #0087ff\">Dense</span>)               │ (<span style=\"color: #00d7ff; text-decoration-color: #00d7ff\">None</span>, <span style=\"color: #00af00; text-decoration-color: #00af00\">3</span>)              │            <span style=\"color: #00af00; text-decoration-color: #00af00\">21</span> │\n",
       "└─────────────────────────────────┴────────────────────────┴───────────────┘\n",
       "</pre>\n"
      ],
      "text/plain": [
       "┏━━━━━━━━━━━━━━━━━━━━━━━━━━━━━━━━━┳━━━━━━━━━━━━━━━━━━━━━━━━┳━━━━━━━━━━━━━━━┓\n",
       "┃\u001b[1m \u001b[0m\u001b[1mLayer (type)                   \u001b[0m\u001b[1m \u001b[0m┃\u001b[1m \u001b[0m\u001b[1mOutput Shape          \u001b[0m\u001b[1m \u001b[0m┃\u001b[1m \u001b[0m\u001b[1m      Param #\u001b[0m\u001b[1m \u001b[0m┃\n",
       "┡━━━━━━━━━━━━━━━━━━━━━━━━━━━━━━━━━╇━━━━━━━━━━━━━━━━━━━━━━━━╇━━━━━━━━━━━━━━━┩\n",
       "│ dense_98 (\u001b[38;5;33mDense\u001b[0m)                │ (\u001b[38;5;45mNone\u001b[0m, \u001b[38;5;34m6\u001b[0m)              │           \u001b[38;5;34m156\u001b[0m │\n",
       "├─────────────────────────────────┼────────────────────────┼───────────────┤\n",
       "│ dense_99 (\u001b[38;5;33mDense\u001b[0m)                │ (\u001b[38;5;45mNone\u001b[0m, \u001b[38;5;34m6\u001b[0m)              │            \u001b[38;5;34m42\u001b[0m │\n",
       "├─────────────────────────────────┼────────────────────────┼───────────────┤\n",
       "│ dense_100 (\u001b[38;5;33mDense\u001b[0m)               │ (\u001b[38;5;45mNone\u001b[0m, \u001b[38;5;34m3\u001b[0m)              │            \u001b[38;5;34m21\u001b[0m │\n",
       "└─────────────────────────────────┴────────────────────────┴───────────────┘\n"
      ]
     },
     "metadata": {},
     "output_type": "display_data"
    },
    {
     "data": {
      "text/html": [
       "<pre style=\"white-space:pre;overflow-x:auto;line-height:normal;font-family:Menlo,'DejaVu Sans Mono',consolas,'Courier New',monospace\"><span style=\"font-weight: bold\"> Total params: </span><span style=\"color: #00af00; text-decoration-color: #00af00\">219</span> (876.00 B)\n",
       "</pre>\n"
      ],
      "text/plain": [
       "\u001b[1m Total params: \u001b[0m\u001b[38;5;34m219\u001b[0m (876.00 B)\n"
      ]
     },
     "metadata": {},
     "output_type": "display_data"
    },
    {
     "data": {
      "text/html": [
       "<pre style=\"white-space:pre;overflow-x:auto;line-height:normal;font-family:Menlo,'DejaVu Sans Mono',consolas,'Courier New',monospace\"><span style=\"font-weight: bold\"> Trainable params: </span><span style=\"color: #00af00; text-decoration-color: #00af00\">219</span> (876.00 B)\n",
       "</pre>\n"
      ],
      "text/plain": [
       "\u001b[1m Trainable params: \u001b[0m\u001b[38;5;34m219\u001b[0m (876.00 B)\n"
      ]
     },
     "metadata": {},
     "output_type": "display_data"
    },
    {
     "data": {
      "text/html": [
       "<pre style=\"white-space:pre;overflow-x:auto;line-height:normal;font-family:Menlo,'DejaVu Sans Mono',consolas,'Courier New',monospace\"><span style=\"font-weight: bold\"> Non-trainable params: </span><span style=\"color: #00af00; text-decoration-color: #00af00\">0</span> (0.00 B)\n",
       "</pre>\n"
      ],
      "text/plain": [
       "\u001b[1m Non-trainable params: \u001b[0m\u001b[38;5;34m0\u001b[0m (0.00 B)\n"
      ]
     },
     "metadata": {},
     "output_type": "display_data"
    }
   ],
   "source": [
    "def create_model_3():\n",
    "\n",
    "  mlp = keras.Sequential([\n",
    "      layers.Input((25,)),\n",
    "      layers.Dense(6, activation=\"sigmoid\"), # Try different numbers of hidden neurons here (e.g. 2, 4, 8, 32, 128)\n",
    "      layers.Dense(6, activation = \"sigmoid\"), # new hidden layer\n",
    "      layers.Dense(3, activation=\"softmax\"),\n",
    "  ])\n",
    "\n",
    "  # Experiment with hyperparameters here:\n",
    "  # momentum: [0, 0.8, 0.9, 0.99]\n",
    "  # learning_rate: [0.1, 0.01, 0.001, 0.0001]\n",
    "  mlp.compile(\n",
    "      optimizer=keras.optimizers.Adam(learning_rate=0.001),  #0.01\n",
    "      loss=keras.losses.CategoricalCrossentropy(),\n",
    "  )\n",
    "\n",
    "  return mlp\n",
    "\n",
    "mlp_3 = create_model_3()\n",
    "mlp_3.summary()"
   ]
  },
  {
   "cell_type": "code",
   "execution_count": 82,
   "metadata": {},
   "outputs": [],
   "source": [
    "keras.utils.set_random_seed(123)\n",
    "kf = KFold(n_splits=3, shuffle=True) \n",
    "\n",
    "def model_train_3(fctn_model, input_data ,output_data):\n",
    "    history_list = []\n",
    "    trained_mlp = []\n",
    "    cm_list = []\n",
    "\n",
    "    for i,(train_index, test_index) in enumerate(kf.split(data_train_normalized_3)) :\n",
    "        mlp = fctn_model()\n",
    "        history = mlp.fit(\n",
    "            x = np.float32(input_data)[train_index],\n",
    "            y = np.float32(output_data)[train_index],\n",
    "            validation_data = (np.float32(input_data)[test_index], np.float32(output_data)[test_index]),\n",
    "            epochs = 50\n",
    "        )\n",
    "\n",
    "        #cm = confusion_matrix(np.float32(output_data.to_numpy())[test_index] > 0, mlp(np.float32(input_data)[test_index]) > 0)\n",
    "\n",
    "        history_list.append(history)\n",
    "        trained_mlp.append(mlp)\n",
    "        #cm_list.append(cm)\n",
    "\n",
    "    return history_list, trained_mlp, train_index, test_index, cm_list"
   ]
  },
  {
   "cell_type": "code",
   "execution_count": 83,
   "metadata": {},
   "outputs": [
    {
     "name": "stdout",
     "output_type": "stream",
     "text": [
      "Epoch 1/50\n"
     ]
    },
    {
     "name": "stdout",
     "output_type": "stream",
     "text": [
      "\u001b[1m852/852\u001b[0m \u001b[32m━━━━━━━━━━━━━━━━━━━━\u001b[0m\u001b[37m\u001b[0m \u001b[1m5s\u001b[0m 3ms/step - loss: 0.8829 - val_loss: 0.4891\n",
      "Epoch 2/50\n",
      "\u001b[1m852/852\u001b[0m \u001b[32m━━━━━━━━━━━━━━━━━━━━\u001b[0m\u001b[37m\u001b[0m \u001b[1m3s\u001b[0m 4ms/step - loss: 0.4614 - val_loss: 0.4349\n",
      "Epoch 3/50\n",
      "\u001b[1m852/852\u001b[0m \u001b[32m━━━━━━━━━━━━━━━━━━━━\u001b[0m\u001b[37m\u001b[0m \u001b[1m6s\u001b[0m 5ms/step - loss: 0.4181 - val_loss: 0.4031\n",
      "Epoch 4/50\n",
      "\u001b[1m852/852\u001b[0m \u001b[32m━━━━━━━━━━━━━━━━━━━━\u001b[0m\u001b[37m\u001b[0m \u001b[1m4s\u001b[0m 4ms/step - loss: 0.3870 - val_loss: 0.3808\n",
      "Epoch 5/50\n",
      "\u001b[1m852/852\u001b[0m \u001b[32m━━━━━━━━━━━━━━━━━━━━\u001b[0m\u001b[37m\u001b[0m \u001b[1m5s\u001b[0m 3ms/step - loss: 0.3665 - val_loss: 0.3694\n",
      "Epoch 6/50\n",
      "\u001b[1m852/852\u001b[0m \u001b[32m━━━━━━━━━━━━━━━━━━━━\u001b[0m\u001b[37m\u001b[0m \u001b[1m3s\u001b[0m 4ms/step - loss: 0.3559 - val_loss: 0.3630\n",
      "Epoch 7/50\n",
      "\u001b[1m852/852\u001b[0m \u001b[32m━━━━━━━━━━━━━━━━━━━━\u001b[0m\u001b[37m\u001b[0m \u001b[1m4s\u001b[0m 4ms/step - loss: 0.3498 - val_loss: 0.3588\n",
      "Epoch 8/50\n",
      "\u001b[1m852/852\u001b[0m \u001b[32m━━━━━━━━━━━━━━━━━━━━\u001b[0m\u001b[37m\u001b[0m \u001b[1m3s\u001b[0m 3ms/step - loss: 0.3459 - val_loss: 0.3558\n",
      "Epoch 9/50\n",
      "\u001b[1m852/852\u001b[0m \u001b[32m━━━━━━━━━━━━━━━━━━━━\u001b[0m\u001b[37m\u001b[0m \u001b[1m2s\u001b[0m 3ms/step - loss: 0.3431 - val_loss: 0.3536\n",
      "Epoch 10/50\n",
      "\u001b[1m852/852\u001b[0m \u001b[32m━━━━━━━━━━━━━━━━━━━━\u001b[0m\u001b[37m\u001b[0m \u001b[1m2s\u001b[0m 3ms/step - loss: 0.3410 - val_loss: 0.3519\n",
      "Epoch 11/50\n",
      "\u001b[1m852/852\u001b[0m \u001b[32m━━━━━━━━━━━━━━━━━━━━\u001b[0m\u001b[37m\u001b[0m \u001b[1m3s\u001b[0m 3ms/step - loss: 0.3393 - val_loss: 0.3506\n",
      "Epoch 12/50\n",
      "\u001b[1m852/852\u001b[0m \u001b[32m━━━━━━━━━━━━━━━━━━━━\u001b[0m\u001b[37m\u001b[0m \u001b[1m3s\u001b[0m 3ms/step - loss: 0.3379 - val_loss: 0.3494\n",
      "Epoch 13/50\n",
      "\u001b[1m852/852\u001b[0m \u001b[32m━━━━━━━━━━━━━━━━━━━━\u001b[0m\u001b[37m\u001b[0m \u001b[1m5s\u001b[0m 3ms/step - loss: 0.3367 - val_loss: 0.3485\n",
      "Epoch 14/50\n",
      "\u001b[1m852/852\u001b[0m \u001b[32m━━━━━━━━━━━━━━━━━━━━\u001b[0m\u001b[37m\u001b[0m \u001b[1m5s\u001b[0m 4ms/step - loss: 0.3356 - val_loss: 0.3476\n",
      "Epoch 15/50\n",
      "\u001b[1m852/852\u001b[0m \u001b[32m━━━━━━━━━━━━━━━━━━━━\u001b[0m\u001b[37m\u001b[0m \u001b[1m4s\u001b[0m 4ms/step - loss: 0.3347 - val_loss: 0.3469\n",
      "Epoch 16/50\n",
      "\u001b[1m852/852\u001b[0m \u001b[32m━━━━━━━━━━━━━━━━━━━━\u001b[0m\u001b[37m\u001b[0m \u001b[1m3s\u001b[0m 3ms/step - loss: 0.3338 - val_loss: 0.3463\n",
      "Epoch 17/50\n",
      "\u001b[1m852/852\u001b[0m \u001b[32m━━━━━━━━━━━━━━━━━━━━\u001b[0m\u001b[37m\u001b[0m \u001b[1m2s\u001b[0m 3ms/step - loss: 0.3331 - val_loss: 0.3457\n",
      "Epoch 18/50\n",
      "\u001b[1m852/852\u001b[0m \u001b[32m━━━━━━━━━━━━━━━━━━━━\u001b[0m\u001b[37m\u001b[0m \u001b[1m3s\u001b[0m 4ms/step - loss: 0.3324 - val_loss: 0.3451\n",
      "Epoch 19/50\n",
      "\u001b[1m852/852\u001b[0m \u001b[32m━━━━━━━━━━━━━━━━━━━━\u001b[0m\u001b[37m\u001b[0m \u001b[1m3s\u001b[0m 3ms/step - loss: 0.3317 - val_loss: 0.3446\n",
      "Epoch 20/50\n",
      "\u001b[1m852/852\u001b[0m \u001b[32m━━━━━━━━━━━━━━━━━━━━\u001b[0m\u001b[37m\u001b[0m \u001b[1m3s\u001b[0m 3ms/step - loss: 0.3311 - val_loss: 0.3441\n",
      "Epoch 21/50\n",
      "\u001b[1m852/852\u001b[0m \u001b[32m━━━━━━━━━━━━━━━━━━━━\u001b[0m\u001b[37m\u001b[0m \u001b[1m3s\u001b[0m 4ms/step - loss: 0.3306 - val_loss: 0.3437\n",
      "Epoch 22/50\n",
      "\u001b[1m852/852\u001b[0m \u001b[32m━━━━━━━━━━━━━━━━━━━━\u001b[0m\u001b[37m\u001b[0m \u001b[1m2s\u001b[0m 2ms/step - loss: 0.3300 - val_loss: 0.3432\n",
      "Epoch 23/50\n",
      "\u001b[1m852/852\u001b[0m \u001b[32m━━━━━━━━━━━━━━━━━━━━\u001b[0m\u001b[37m\u001b[0m \u001b[1m2s\u001b[0m 3ms/step - loss: 0.3296 - val_loss: 0.3428\n",
      "Epoch 24/50\n",
      "\u001b[1m852/852\u001b[0m \u001b[32m━━━━━━━━━━━━━━━━━━━━\u001b[0m\u001b[37m\u001b[0m \u001b[1m2s\u001b[0m 2ms/step - loss: 0.3291 - val_loss: 0.3423\n",
      "Epoch 25/50\n",
      "\u001b[1m852/852\u001b[0m \u001b[32m━━━━━━━━━━━━━━━━━━━━\u001b[0m\u001b[37m\u001b[0m \u001b[1m2s\u001b[0m 2ms/step - loss: 0.3287 - val_loss: 0.3419\n",
      "Epoch 26/50\n",
      "\u001b[1m852/852\u001b[0m \u001b[32m━━━━━━━━━━━━━━━━━━━━\u001b[0m\u001b[37m\u001b[0m \u001b[1m3s\u001b[0m 2ms/step - loss: 0.3283 - val_loss: 0.3415\n",
      "Epoch 27/50\n",
      "\u001b[1m852/852\u001b[0m \u001b[32m━━━━━━━━━━━━━━━━━━━━\u001b[0m\u001b[37m\u001b[0m \u001b[1m2s\u001b[0m 2ms/step - loss: 0.3279 - val_loss: 0.3411\n",
      "Epoch 28/50\n",
      "\u001b[1m852/852\u001b[0m \u001b[32m━━━━━━━━━━━━━━━━━━━━\u001b[0m\u001b[37m\u001b[0m \u001b[1m2s\u001b[0m 2ms/step - loss: 0.3275 - val_loss: 0.3408\n",
      "Epoch 29/50\n",
      "\u001b[1m852/852\u001b[0m \u001b[32m━━━━━━━━━━━━━━━━━━━━\u001b[0m\u001b[37m\u001b[0m \u001b[1m3s\u001b[0m 2ms/step - loss: 0.3272 - val_loss: 0.3404\n",
      "Epoch 30/50\n",
      "\u001b[1m852/852\u001b[0m \u001b[32m━━━━━━━━━━━━━━━━━━━━\u001b[0m\u001b[37m\u001b[0m \u001b[1m2s\u001b[0m 2ms/step - loss: 0.3269 - val_loss: 0.3401\n",
      "Epoch 31/50\n",
      "\u001b[1m852/852\u001b[0m \u001b[32m━━━━━━━━━━━━━━━━━━━━\u001b[0m\u001b[37m\u001b[0m \u001b[1m2s\u001b[0m 2ms/step - loss: 0.3266 - val_loss: 0.3398\n",
      "Epoch 32/50\n",
      "\u001b[1m852/852\u001b[0m \u001b[32m━━━━━━━━━━━━━━━━━━━━\u001b[0m\u001b[37m\u001b[0m \u001b[1m2s\u001b[0m 2ms/step - loss: 0.3263 - val_loss: 0.3395\n",
      "Epoch 33/50\n",
      "\u001b[1m852/852\u001b[0m \u001b[32m━━━━━━━━━━━━━━━━━━━━\u001b[0m\u001b[37m\u001b[0m \u001b[1m3s\u001b[0m 4ms/step - loss: 0.3261 - val_loss: 0.3393\n",
      "Epoch 34/50\n",
      "\u001b[1m852/852\u001b[0m \u001b[32m━━━━━━━━━━━━━━━━━━━━\u001b[0m\u001b[37m\u001b[0m \u001b[1m5s\u001b[0m 3ms/step - loss: 0.3258 - val_loss: 0.3390\n",
      "Epoch 35/50\n",
      "\u001b[1m852/852\u001b[0m \u001b[32m━━━━━━━━━━━━━━━━━━━━\u001b[0m\u001b[37m\u001b[0m \u001b[1m5s\u001b[0m 4ms/step - loss: 0.3256 - val_loss: 0.3388\n",
      "Epoch 36/50\n",
      "\u001b[1m852/852\u001b[0m \u001b[32m━━━━━━━━━━━━━━━━━━━━\u001b[0m\u001b[37m\u001b[0m \u001b[1m4s\u001b[0m 5ms/step - loss: 0.3254 - val_loss: 0.3385\n",
      "Epoch 37/50\n",
      "\u001b[1m852/852\u001b[0m \u001b[32m━━━━━━━━━━━━━━━━━━━━\u001b[0m\u001b[37m\u001b[0m \u001b[1m3s\u001b[0m 4ms/step - loss: 0.3252 - val_loss: 0.3383\n",
      "Epoch 38/50\n",
      "\u001b[1m852/852\u001b[0m \u001b[32m━━━━━━━━━━━━━━━━━━━━\u001b[0m\u001b[37m\u001b[0m \u001b[1m5s\u001b[0m 4ms/step - loss: 0.3250 - val_loss: 0.3381\n",
      "Epoch 39/50\n",
      "\u001b[1m852/852\u001b[0m \u001b[32m━━━━━━━━━━━━━━━━━━━━\u001b[0m\u001b[37m\u001b[0m \u001b[1m3s\u001b[0m 4ms/step - loss: 0.3248 - val_loss: 0.3379\n",
      "Epoch 40/50\n",
      "\u001b[1m852/852\u001b[0m \u001b[32m━━━━━━━━━━━━━━━━━━━━\u001b[0m\u001b[37m\u001b[0m \u001b[1m4s\u001b[0m 5ms/step - loss: 0.3246 - val_loss: 0.3377\n",
      "Epoch 41/50\n",
      "\u001b[1m852/852\u001b[0m \u001b[32m━━━━━━━━━━━━━━━━━━━━\u001b[0m\u001b[37m\u001b[0m \u001b[1m8s\u001b[0m 9ms/step - loss: 0.3245 - val_loss: 0.3375\n",
      "Epoch 42/50\n",
      "\u001b[1m852/852\u001b[0m \u001b[32m━━━━━━━━━━━━━━━━━━━━\u001b[0m\u001b[37m\u001b[0m \u001b[1m8s\u001b[0m 7ms/step - loss: 0.3243 - val_loss: 0.3374\n",
      "Epoch 43/50\n",
      "\u001b[1m852/852\u001b[0m \u001b[32m━━━━━━━━━━━━━━━━━━━━\u001b[0m\u001b[37m\u001b[0m \u001b[1m8s\u001b[0m 4ms/step - loss: 0.3242 - val_loss: 0.3372\n",
      "Epoch 44/50\n",
      "\u001b[1m852/852\u001b[0m \u001b[32m━━━━━━━━━━━━━━━━━━━━\u001b[0m\u001b[37m\u001b[0m \u001b[1m5s\u001b[0m 4ms/step - loss: 0.3240 - val_loss: 0.3371\n",
      "Epoch 45/50\n",
      "\u001b[1m852/852\u001b[0m \u001b[32m━━━━━━━━━━━━━━━━━━━━\u001b[0m\u001b[37m\u001b[0m \u001b[1m2s\u001b[0m 2ms/step - loss: 0.3239 - val_loss: 0.3369\n",
      "Epoch 46/50\n",
      "\u001b[1m852/852\u001b[0m \u001b[32m━━━━━━━━━━━━━━━━━━━━\u001b[0m\u001b[37m\u001b[0m \u001b[1m2s\u001b[0m 3ms/step - loss: 0.3238 - val_loss: 0.3368\n",
      "Epoch 47/50\n",
      "\u001b[1m852/852\u001b[0m \u001b[32m━━━━━━━━━━━━━━━━━━━━\u001b[0m\u001b[37m\u001b[0m \u001b[1m2s\u001b[0m 3ms/step - loss: 0.3236 - val_loss: 0.3367\n",
      "Epoch 48/50\n",
      "\u001b[1m852/852\u001b[0m \u001b[32m━━━━━━━━━━━━━━━━━━━━\u001b[0m\u001b[37m\u001b[0m \u001b[1m3s\u001b[0m 3ms/step - loss: 0.3235 - val_loss: 0.3366\n",
      "Epoch 49/50\n",
      "\u001b[1m852/852\u001b[0m \u001b[32m━━━━━━━━━━━━━━━━━━━━\u001b[0m\u001b[37m\u001b[0m \u001b[1m3s\u001b[0m 4ms/step - loss: 0.3234 - val_loss: 0.3365\n",
      "Epoch 50/50\n",
      "\u001b[1m852/852\u001b[0m \u001b[32m━━━━━━━━━━━━━━━━━━━━\u001b[0m\u001b[37m\u001b[0m \u001b[1m3s\u001b[0m 3ms/step - loss: 0.3233 - val_loss: 0.3363\n",
      "Epoch 1/50\n",
      "\u001b[1m852/852\u001b[0m \u001b[32m━━━━━━━━━━━━━━━━━━━━\u001b[0m\u001b[37m\u001b[0m \u001b[1m5s\u001b[0m 3ms/step - loss: 0.7800 - val_loss: 0.4651\n",
      "Epoch 2/50\n",
      "\u001b[1m852/852\u001b[0m \u001b[32m━━━━━━━━━━━━━━━━━━━━\u001b[0m\u001b[37m\u001b[0m \u001b[1m5s\u001b[0m 3ms/step - loss: 0.4582 - val_loss: 0.4273\n",
      "Epoch 3/50\n",
      "\u001b[1m852/852\u001b[0m \u001b[32m━━━━━━━━━━━━━━━━━━━━\u001b[0m\u001b[37m\u001b[0m \u001b[1m3s\u001b[0m 3ms/step - loss: 0.4346 - val_loss: 0.4086\n",
      "Epoch 4/50\n",
      "\u001b[1m852/852\u001b[0m \u001b[32m━━━━━━━━━━━━━━━━━━━━\u001b[0m\u001b[37m\u001b[0m \u001b[1m3s\u001b[0m 3ms/step - loss: 0.4156 - val_loss: 0.3890\n",
      "Epoch 5/50\n",
      "\u001b[1m852/852\u001b[0m \u001b[32m━━━━━━━━━━━━━━━━━━━━\u001b[0m\u001b[37m\u001b[0m \u001b[1m3s\u001b[0m 3ms/step - loss: 0.3961 - val_loss: 0.3729\n",
      "Epoch 6/50\n",
      "\u001b[1m852/852\u001b[0m \u001b[32m━━━━━━━━━━━━━━━━━━━━\u001b[0m\u001b[37m\u001b[0m \u001b[1m3s\u001b[0m 3ms/step - loss: 0.3811 - val_loss: 0.3624\n",
      "Epoch 7/50\n",
      "\u001b[1m852/852\u001b[0m \u001b[32m━━━━━━━━━━━━━━━━━━━━\u001b[0m\u001b[37m\u001b[0m \u001b[1m5s\u001b[0m 3ms/step - loss: 0.3716 - val_loss: 0.3563\n",
      "Epoch 8/50\n",
      "\u001b[1m852/852\u001b[0m \u001b[32m━━━━━━━━━━━━━━━━━━━━\u001b[0m\u001b[37m\u001b[0m \u001b[1m2s\u001b[0m 3ms/step - loss: 0.3659 - val_loss: 0.3525\n",
      "Epoch 9/50\n",
      "\u001b[1m852/852\u001b[0m \u001b[32m━━━━━━━━━━━━━━━━━━━━\u001b[0m\u001b[37m\u001b[0m \u001b[1m3s\u001b[0m 3ms/step - loss: 0.3623 - val_loss: 0.3502\n",
      "Epoch 10/50\n",
      "\u001b[1m852/852\u001b[0m \u001b[32m━━━━━━━━━━━━━━━━━━━━\u001b[0m\u001b[37m\u001b[0m \u001b[1m2s\u001b[0m 3ms/step - loss: 0.3598 - val_loss: 0.3485\n",
      "Epoch 11/50\n",
      "\u001b[1m852/852\u001b[0m \u001b[32m━━━━━━━━━━━━━━━━━━━━\u001b[0m\u001b[37m\u001b[0m \u001b[1m3s\u001b[0m 3ms/step - loss: 0.3579 - val_loss: 0.3473\n",
      "Epoch 12/50\n",
      "\u001b[1m852/852\u001b[0m \u001b[32m━━━━━━━━━━━━━━━━━━━━\u001b[0m\u001b[37m\u001b[0m \u001b[1m2s\u001b[0m 3ms/step - loss: 0.3564 - val_loss: 0.3463\n",
      "Epoch 13/50\n",
      "\u001b[1m852/852\u001b[0m \u001b[32m━━━━━━━━━━━━━━━━━━━━\u001b[0m\u001b[37m\u001b[0m \u001b[1m2s\u001b[0m 2ms/step - loss: 0.3552 - val_loss: 0.3455\n",
      "Epoch 14/50\n",
      "\u001b[1m852/852\u001b[0m \u001b[32m━━━━━━━━━━━━━━━━━━━━\u001b[0m\u001b[37m\u001b[0m \u001b[1m4s\u001b[0m 4ms/step - loss: 0.3542 - val_loss: 0.3448\n",
      "Epoch 15/50\n",
      "\u001b[1m852/852\u001b[0m \u001b[32m━━━━━━━━━━━━━━━━━━━━\u001b[0m\u001b[37m\u001b[0m \u001b[1m7s\u001b[0m 6ms/step - loss: 0.3533 - val_loss: 0.3442\n",
      "Epoch 16/50\n",
      "\u001b[1m852/852\u001b[0m \u001b[32m━━━━━━━━━━━━━━━━━━━━\u001b[0m\u001b[37m\u001b[0m \u001b[1m2s\u001b[0m 3ms/step - loss: 0.3526 - val_loss: 0.3437\n",
      "Epoch 17/50\n",
      "\u001b[1m852/852\u001b[0m \u001b[32m━━━━━━━━━━━━━━━━━━━━\u001b[0m\u001b[37m\u001b[0m \u001b[1m2s\u001b[0m 3ms/step - loss: 0.3519 - val_loss: 0.3433\n",
      "Epoch 18/50\n",
      "\u001b[1m852/852\u001b[0m \u001b[32m━━━━━━━━━━━━━━━━━━━━\u001b[0m\u001b[37m\u001b[0m \u001b[1m2s\u001b[0m 3ms/step - loss: 0.3513 - val_loss: 0.3429\n",
      "Epoch 19/50\n",
      "\u001b[1m852/852\u001b[0m \u001b[32m━━━━━━━━━━━━━━━━━━━━\u001b[0m\u001b[37m\u001b[0m \u001b[1m2s\u001b[0m 2ms/step - loss: 0.3507 - val_loss: 0.3425\n",
      "Epoch 20/50\n",
      "\u001b[1m852/852\u001b[0m \u001b[32m━━━━━━━━━━━━━━━━━━━━\u001b[0m\u001b[37m\u001b[0m \u001b[1m3s\u001b[0m 3ms/step - loss: 0.3501 - val_loss: 0.3421\n",
      "Epoch 21/50\n",
      "\u001b[1m852/852\u001b[0m \u001b[32m━━━━━━━━━━━━━━━━━━━━\u001b[0m\u001b[37m\u001b[0m \u001b[1m3s\u001b[0m 3ms/step - loss: 0.3496 - val_loss: 0.3418\n",
      "Epoch 22/50\n",
      "\u001b[1m852/852\u001b[0m \u001b[32m━━━━━━━━━━━━━━━━━━━━\u001b[0m\u001b[37m\u001b[0m \u001b[1m4s\u001b[0m 4ms/step - loss: 0.3491 - val_loss: 0.3414\n",
      "Epoch 23/50\n",
      "\u001b[1m852/852\u001b[0m \u001b[32m━━━━━━━━━━━━━━━━━━━━\u001b[0m\u001b[37m\u001b[0m \u001b[1m2s\u001b[0m 2ms/step - loss: 0.3486 - val_loss: 0.3411\n",
      "Epoch 24/50\n",
      "\u001b[1m852/852\u001b[0m \u001b[32m━━━━━━━━━━━━━━━━━━━━\u001b[0m\u001b[37m\u001b[0m \u001b[1m3s\u001b[0m 2ms/step - loss: 0.3481 - val_loss: 0.3408\n",
      "Epoch 25/50\n",
      "\u001b[1m852/852\u001b[0m \u001b[32m━━━━━━━━━━━━━━━━━━━━\u001b[0m\u001b[37m\u001b[0m \u001b[1m2s\u001b[0m 3ms/step - loss: 0.3476 - val_loss: 0.3405\n",
      "Epoch 26/50\n",
      "\u001b[1m852/852\u001b[0m \u001b[32m━━━━━━━━━━━━━━━━━━━━\u001b[0m\u001b[37m\u001b[0m \u001b[1m3s\u001b[0m 3ms/step - loss: 0.3470 - val_loss: 0.3402\n",
      "Epoch 27/50\n",
      "\u001b[1m852/852\u001b[0m \u001b[32m━━━━━━━━━━━━━━━━━━━━\u001b[0m\u001b[37m\u001b[0m \u001b[1m2s\u001b[0m 3ms/step - loss: 0.3465 - val_loss: 0.3399\n",
      "Epoch 28/50\n",
      "\u001b[1m852/852\u001b[0m \u001b[32m━━━━━━━━━━━━━━━━━━━━\u001b[0m\u001b[37m\u001b[0m \u001b[1m3s\u001b[0m 4ms/step - loss: 0.3460 - val_loss: 0.3396\n",
      "Epoch 29/50\n",
      "\u001b[1m852/852\u001b[0m \u001b[32m━━━━━━━━━━━━━━━━━━━━\u001b[0m\u001b[37m\u001b[0m \u001b[1m3s\u001b[0m 3ms/step - loss: 0.3454 - val_loss: 0.3393\n",
      "Epoch 30/50\n",
      "\u001b[1m852/852\u001b[0m \u001b[32m━━━━━━━━━━━━━━━━━━━━\u001b[0m\u001b[37m\u001b[0m \u001b[1m3s\u001b[0m 3ms/step - loss: 0.3449 - val_loss: 0.3390\n",
      "Epoch 31/50\n",
      "\u001b[1m852/852\u001b[0m \u001b[32m━━━━━━━━━━━━━━━━━━━━\u001b[0m\u001b[37m\u001b[0m \u001b[1m3s\u001b[0m 3ms/step - loss: 0.3443 - val_loss: 0.3387\n",
      "Epoch 32/50\n",
      "\u001b[1m852/852\u001b[0m \u001b[32m━━━━━━━━━━━━━━━━━━━━\u001b[0m\u001b[37m\u001b[0m \u001b[1m5s\u001b[0m 3ms/step - loss: 0.3437 - val_loss: 0.3384\n",
      "Epoch 33/50\n",
      "\u001b[1m852/852\u001b[0m \u001b[32m━━━━━━━━━━━━━━━━━━━━\u001b[0m\u001b[37m\u001b[0m \u001b[1m2s\u001b[0m 3ms/step - loss: 0.3432 - val_loss: 0.3381\n",
      "Epoch 34/50\n",
      "\u001b[1m852/852\u001b[0m \u001b[32m━━━━━━━━━━━━━━━━━━━━\u001b[0m\u001b[37m\u001b[0m \u001b[1m2s\u001b[0m 3ms/step - loss: 0.3426 - val_loss: 0.3377\n",
      "Epoch 35/50\n",
      "\u001b[1m852/852\u001b[0m \u001b[32m━━━━━━━━━━━━━━━━━━━━\u001b[0m\u001b[37m\u001b[0m \u001b[1m2s\u001b[0m 3ms/step - loss: 0.3420 - val_loss: 0.3374\n",
      "Epoch 36/50\n",
      "\u001b[1m852/852\u001b[0m \u001b[32m━━━━━━━━━━━━━━━━━━━━\u001b[0m\u001b[37m\u001b[0m \u001b[1m3s\u001b[0m 3ms/step - loss: 0.3415 - val_loss: 0.3371\n",
      "Epoch 37/50\n",
      "\u001b[1m852/852\u001b[0m \u001b[32m━━━━━━━━━━━━━━━━━━━━\u001b[0m\u001b[37m\u001b[0m \u001b[1m2s\u001b[0m 3ms/step - loss: 0.3409 - val_loss: 0.3368\n",
      "Epoch 38/50\n",
      "\u001b[1m852/852\u001b[0m \u001b[32m━━━━━━━━━━━━━━━━━━━━\u001b[0m\u001b[37m\u001b[0m \u001b[1m2s\u001b[0m 3ms/step - loss: 0.3404 - val_loss: 0.3365\n",
      "Epoch 39/50\n",
      "\u001b[1m852/852\u001b[0m \u001b[32m━━━━━━━━━━━━━━━━━━━━\u001b[0m\u001b[37m\u001b[0m \u001b[1m2s\u001b[0m 3ms/step - loss: 0.3398 - val_loss: 0.3363\n",
      "Epoch 40/50\n",
      "\u001b[1m852/852\u001b[0m \u001b[32m━━━━━━━━━━━━━━━━━━━━\u001b[0m\u001b[37m\u001b[0m \u001b[1m3s\u001b[0m 3ms/step - loss: 0.3393 - val_loss: 0.3360\n",
      "Epoch 41/50\n",
      "\u001b[1m852/852\u001b[0m \u001b[32m━━━━━━━━━━━━━━━━━━━━\u001b[0m\u001b[37m\u001b[0m \u001b[1m3s\u001b[0m 3ms/step - loss: 0.3389 - val_loss: 0.3358\n",
      "Epoch 42/50\n",
      "\u001b[1m852/852\u001b[0m \u001b[32m━━━━━━━━━━━━━━━━━━━━\u001b[0m\u001b[37m\u001b[0m \u001b[1m3s\u001b[0m 3ms/step - loss: 0.3384 - val_loss: 0.3355\n",
      "Epoch 43/50\n",
      "\u001b[1m852/852\u001b[0m \u001b[32m━━━━━━━━━━━━━━━━━━━━\u001b[0m\u001b[37m\u001b[0m \u001b[1m2s\u001b[0m 3ms/step - loss: 0.3380 - val_loss: 0.3353\n",
      "Epoch 44/50\n",
      "\u001b[1m852/852\u001b[0m \u001b[32m━━━━━━━━━━━━━━━━━━━━\u001b[0m\u001b[37m\u001b[0m \u001b[1m2s\u001b[0m 3ms/step - loss: 0.3376 - val_loss: 0.3351\n",
      "Epoch 45/50\n",
      "\u001b[1m852/852\u001b[0m \u001b[32m━━━━━━━━━━━━━━━━━━━━\u001b[0m\u001b[37m\u001b[0m \u001b[1m2s\u001b[0m 3ms/step - loss: 0.3372 - val_loss: 0.3348\n",
      "Epoch 46/50\n",
      "\u001b[1m852/852\u001b[0m \u001b[32m━━━━━━━━━━━━━━━━━━━━\u001b[0m\u001b[37m\u001b[0m \u001b[1m2s\u001b[0m 3ms/step - loss: 0.3369 - val_loss: 0.3346\n",
      "Epoch 47/50\n",
      "\u001b[1m852/852\u001b[0m \u001b[32m━━━━━━━━━━━━━━━━━━━━\u001b[0m\u001b[37m\u001b[0m \u001b[1m2s\u001b[0m 3ms/step - loss: 0.3366 - val_loss: 0.3344\n",
      "Epoch 48/50\n",
      "\u001b[1m852/852\u001b[0m \u001b[32m━━━━━━━━━━━━━━━━━━━━\u001b[0m\u001b[37m\u001b[0m \u001b[1m3s\u001b[0m 3ms/step - loss: 0.3363 - val_loss: 0.3342\n",
      "Epoch 49/50\n",
      "\u001b[1m852/852\u001b[0m \u001b[32m━━━━━━━━━━━━━━━━━━━━\u001b[0m\u001b[37m\u001b[0m \u001b[1m3s\u001b[0m 3ms/step - loss: 0.3360 - val_loss: 0.3340\n",
      "Epoch 50/50\n",
      "\u001b[1m852/852\u001b[0m \u001b[32m━━━━━━━━━━━━━━━━━━━━\u001b[0m\u001b[37m\u001b[0m \u001b[1m2s\u001b[0m 3ms/step - loss: 0.3357 - val_loss: 0.3338\n",
      "Epoch 1/50\n",
      "\u001b[1m852/852\u001b[0m \u001b[32m━━━━━━━━━━━━━━━━━━━━\u001b[0m\u001b[37m\u001b[0m \u001b[1m5s\u001b[0m 4ms/step - loss: 1.0693 - val_loss: 0.5250\n",
      "Epoch 2/50\n",
      "\u001b[1m852/852\u001b[0m \u001b[32m━━━━━━━━━━━━━━━━━━━━\u001b[0m\u001b[37m\u001b[0m \u001b[1m4s\u001b[0m 3ms/step - loss: 0.4942 - val_loss: 0.4426\n",
      "Epoch 3/50\n",
      "\u001b[1m852/852\u001b[0m \u001b[32m━━━━━━━━━━━━━━━━━━━━\u001b[0m\u001b[37m\u001b[0m \u001b[1m2s\u001b[0m 3ms/step - loss: 0.4360 - val_loss: 0.4146\n",
      "Epoch 4/50\n",
      "\u001b[1m852/852\u001b[0m \u001b[32m━━━━━━━━━━━━━━━━━━━━\u001b[0m\u001b[37m\u001b[0m \u001b[1m2s\u001b[0m 3ms/step - loss: 0.4086 - val_loss: 0.3890\n",
      "Epoch 5/50\n",
      "\u001b[1m852/852\u001b[0m \u001b[32m━━━━━━━━━━━━━━━━━━━━\u001b[0m\u001b[37m\u001b[0m \u001b[1m2s\u001b[0m 3ms/step - loss: 0.3856 - val_loss: 0.3728\n",
      "Epoch 6/50\n",
      "\u001b[1m852/852\u001b[0m \u001b[32m━━━━━━━━━━━━━━━━━━━━\u001b[0m\u001b[37m\u001b[0m \u001b[1m2s\u001b[0m 3ms/step - loss: 0.3720 - val_loss: 0.3643\n",
      "Epoch 7/50\n",
      "\u001b[1m852/852\u001b[0m \u001b[32m━━━━━━━━━━━━━━━━━━━━\u001b[0m\u001b[37m\u001b[0m \u001b[1m2s\u001b[0m 2ms/step - loss: 0.3646 - val_loss: 0.3594\n",
      "Epoch 8/50\n",
      "\u001b[1m852/852\u001b[0m \u001b[32m━━━━━━━━━━━━━━━━━━━━\u001b[0m\u001b[37m\u001b[0m \u001b[1m2s\u001b[0m 2ms/step - loss: 0.3599 - val_loss: 0.3559\n",
      "Epoch 9/50\n",
      "\u001b[1m852/852\u001b[0m \u001b[32m━━━━━━━━━━━━━━━━━━━━\u001b[0m\u001b[37m\u001b[0m \u001b[1m2s\u001b[0m 3ms/step - loss: 0.3566 - val_loss: 0.3532\n",
      "Epoch 10/50\n",
      "\u001b[1m852/852\u001b[0m \u001b[32m━━━━━━━━━━━━━━━━━━━━\u001b[0m\u001b[37m\u001b[0m \u001b[1m2s\u001b[0m 3ms/step - loss: 0.3539 - val_loss: 0.3510\n",
      "Epoch 11/50\n",
      "\u001b[1m852/852\u001b[0m \u001b[32m━━━━━━━━━━━━━━━━━━━━\u001b[0m\u001b[37m\u001b[0m \u001b[1m3s\u001b[0m 3ms/step - loss: 0.3516 - val_loss: 0.3491\n",
      "Epoch 12/50\n",
      "\u001b[1m852/852\u001b[0m \u001b[32m━━━━━━━━━━━━━━━━━━━━\u001b[0m\u001b[37m\u001b[0m \u001b[1m2s\u001b[0m 2ms/step - loss: 0.3496 - val_loss: 0.3475\n",
      "Epoch 13/50\n",
      "\u001b[1m852/852\u001b[0m \u001b[32m━━━━━━━━━━━━━━━━━━━━\u001b[0m\u001b[37m\u001b[0m \u001b[1m2s\u001b[0m 3ms/step - loss: 0.3479 - val_loss: 0.3461\n",
      "Epoch 14/50\n",
      "\u001b[1m852/852\u001b[0m \u001b[32m━━━━━━━━━━━━━━━━━━━━\u001b[0m\u001b[37m\u001b[0m \u001b[1m2s\u001b[0m 2ms/step - loss: 0.3464 - val_loss: 0.3449\n",
      "Epoch 15/50\n",
      "\u001b[1m852/852\u001b[0m \u001b[32m━━━━━━━━━━━━━━━━━━━━\u001b[0m\u001b[37m\u001b[0m \u001b[1m2s\u001b[0m 2ms/step - loss: 0.3451 - val_loss: 0.3439\n",
      "Epoch 16/50\n",
      "\u001b[1m852/852\u001b[0m \u001b[32m━━━━━━━━━━━━━━━━━━━━\u001b[0m\u001b[37m\u001b[0m \u001b[1m3s\u001b[0m 3ms/step - loss: 0.3439 - val_loss: 0.3430\n",
      "Epoch 17/50\n",
      "\u001b[1m852/852\u001b[0m \u001b[32m━━━━━━━━━━━━━━━━━━━━\u001b[0m\u001b[37m\u001b[0m \u001b[1m2s\u001b[0m 2ms/step - loss: 0.3429 - val_loss: 0.3422\n",
      "Epoch 18/50\n",
      "\u001b[1m852/852\u001b[0m \u001b[32m━━━━━━━━━━━━━━━━━━━━\u001b[0m\u001b[37m\u001b[0m \u001b[1m2s\u001b[0m 2ms/step - loss: 0.3419 - val_loss: 0.3415\n",
      "Epoch 19/50\n",
      "\u001b[1m852/852\u001b[0m \u001b[32m━━━━━━━━━━━━━━━━━━━━\u001b[0m\u001b[37m\u001b[0m \u001b[1m2s\u001b[0m 2ms/step - loss: 0.3411 - val_loss: 0.3409\n",
      "Epoch 20/50\n",
      "\u001b[1m852/852\u001b[0m \u001b[32m━━━━━━━━━━━━━━━━━━━━\u001b[0m\u001b[37m\u001b[0m \u001b[1m2s\u001b[0m 3ms/step - loss: 0.3403 - val_loss: 0.3403\n",
      "Epoch 21/50\n",
      "\u001b[1m852/852\u001b[0m \u001b[32m━━━━━━━━━━━━━━━━━━━━\u001b[0m\u001b[37m\u001b[0m \u001b[1m2s\u001b[0m 2ms/step - loss: 0.3396 - val_loss: 0.3398\n",
      "Epoch 22/50\n",
      "\u001b[1m852/852\u001b[0m \u001b[32m━━━━━━━━━━━━━━━━━━━━\u001b[0m\u001b[37m\u001b[0m \u001b[1m2s\u001b[0m 3ms/step - loss: 0.3389 - val_loss: 0.3394\n",
      "Epoch 23/50\n",
      "\u001b[1m852/852\u001b[0m \u001b[32m━━━━━━━━━━━━━━━━━━━━\u001b[0m\u001b[37m\u001b[0m \u001b[1m3s\u001b[0m 3ms/step - loss: 0.3383 - val_loss: 0.3390\n",
      "Epoch 24/50\n",
      "\u001b[1m852/852\u001b[0m \u001b[32m━━━━━━━━━━━━━━━━━━━━\u001b[0m\u001b[37m\u001b[0m \u001b[1m2s\u001b[0m 2ms/step - loss: 0.3377 - val_loss: 0.3386\n",
      "Epoch 25/50\n",
      "\u001b[1m852/852\u001b[0m \u001b[32m━━━━━━━━━━━━━━━━━━━━\u001b[0m\u001b[37m\u001b[0m \u001b[1m3s\u001b[0m 3ms/step - loss: 0.3370 - val_loss: 0.3382\n",
      "Epoch 26/50\n",
      "\u001b[1m852/852\u001b[0m \u001b[32m━━━━━━━━━━━━━━━━━━━━\u001b[0m\u001b[37m\u001b[0m \u001b[1m2s\u001b[0m 2ms/step - loss: 0.3365 - val_loss: 0.3378\n",
      "Epoch 27/50\n",
      "\u001b[1m852/852\u001b[0m \u001b[32m━━━━━━━━━━━━━━━━━━━━\u001b[0m\u001b[37m\u001b[0m \u001b[1m3s\u001b[0m 3ms/step - loss: 0.3359 - val_loss: 0.3374\n",
      "Epoch 28/50\n",
      "\u001b[1m852/852\u001b[0m \u001b[32m━━━━━━━━━━━━━━━━━━━━\u001b[0m\u001b[37m\u001b[0m \u001b[1m3s\u001b[0m 3ms/step - loss: 0.3353 - val_loss: 0.3371\n",
      "Epoch 29/50\n",
      "\u001b[1m852/852\u001b[0m \u001b[32m━━━━━━━━━━━━━━━━━━━━\u001b[0m\u001b[37m\u001b[0m \u001b[1m2s\u001b[0m 2ms/step - loss: 0.3348 - val_loss: 0.3368\n",
      "Epoch 30/50\n",
      "\u001b[1m852/852\u001b[0m \u001b[32m━━━━━━━━━━━━━━━━━━━━\u001b[0m\u001b[37m\u001b[0m \u001b[1m3s\u001b[0m 3ms/step - loss: 0.3343 - val_loss: 0.3365\n",
      "Epoch 31/50\n",
      "\u001b[1m852/852\u001b[0m \u001b[32m━━━━━━━━━━━━━━━━━━━━\u001b[0m\u001b[37m\u001b[0m \u001b[1m2s\u001b[0m 2ms/step - loss: 0.3337 - val_loss: 0.3362\n",
      "Epoch 32/50\n",
      "\u001b[1m852/852\u001b[0m \u001b[32m━━━━━━━━━━━━━━━━━━━━\u001b[0m\u001b[37m\u001b[0m \u001b[1m2s\u001b[0m 2ms/step - loss: 0.3332 - val_loss: 0.3359\n",
      "Epoch 33/50\n",
      "\u001b[1m852/852\u001b[0m \u001b[32m━━━━━━━━━━━━━━━━━━━━\u001b[0m\u001b[37m\u001b[0m \u001b[1m2s\u001b[0m 3ms/step - loss: 0.3328 - val_loss: 0.3356\n",
      "Epoch 34/50\n",
      "\u001b[1m852/852\u001b[0m \u001b[32m━━━━━━━━━━━━━━━━━━━━\u001b[0m\u001b[37m\u001b[0m \u001b[1m3s\u001b[0m 4ms/step - loss: 0.3323 - val_loss: 0.3354\n",
      "Epoch 35/50\n",
      "\u001b[1m852/852\u001b[0m \u001b[32m━━━━━━━━━━━━━━━━━━━━\u001b[0m\u001b[37m\u001b[0m \u001b[1m3s\u001b[0m 3ms/step - loss: 0.3319 - val_loss: 0.3352\n",
      "Epoch 36/50\n",
      "\u001b[1m852/852\u001b[0m \u001b[32m━━━━━━━━━━━━━━━━━━━━\u001b[0m\u001b[37m\u001b[0m \u001b[1m2s\u001b[0m 3ms/step - loss: 0.3314 - val_loss: 0.3349\n",
      "Epoch 37/50\n",
      "\u001b[1m852/852\u001b[0m \u001b[32m━━━━━━━━━━━━━━━━━━━━\u001b[0m\u001b[37m\u001b[0m \u001b[1m3s\u001b[0m 3ms/step - loss: 0.3310 - val_loss: 0.3347\n",
      "Epoch 38/50\n",
      "\u001b[1m852/852\u001b[0m \u001b[32m━━━━━━━━━━━━━━━━━━━━\u001b[0m\u001b[37m\u001b[0m \u001b[1m3s\u001b[0m 3ms/step - loss: 0.3306 - val_loss: 0.3346\n",
      "Epoch 39/50\n",
      "\u001b[1m852/852\u001b[0m \u001b[32m━━━━━━━━━━━━━━━━━━━━\u001b[0m\u001b[37m\u001b[0m \u001b[1m2s\u001b[0m 3ms/step - loss: 0.3303 - val_loss: 0.3344\n",
      "Epoch 40/50\n",
      "\u001b[1m852/852\u001b[0m \u001b[32m━━━━━━━━━━━━━━━━━━━━\u001b[0m\u001b[37m\u001b[0m \u001b[1m2s\u001b[0m 2ms/step - loss: 0.3299 - val_loss: 0.3342\n",
      "Epoch 41/50\n",
      "\u001b[1m852/852\u001b[0m \u001b[32m━━━━━━━━━━━━━━━━━━━━\u001b[0m\u001b[37m\u001b[0m \u001b[1m2s\u001b[0m 3ms/step - loss: 0.3296 - val_loss: 0.3340\n",
      "Epoch 42/50\n",
      "\u001b[1m852/852\u001b[0m \u001b[32m━━━━━━━━━━━━━━━━━━━━\u001b[0m\u001b[37m\u001b[0m \u001b[1m2s\u001b[0m 3ms/step - loss: 0.3293 - val_loss: 0.3339\n",
      "Epoch 43/50\n",
      "\u001b[1m852/852\u001b[0m \u001b[32m━━━━━━━━━━━━━━━━━━━━\u001b[0m\u001b[37m\u001b[0m \u001b[1m3s\u001b[0m 3ms/step - loss: 0.3290 - val_loss: 0.3337\n",
      "Epoch 44/50\n",
      "\u001b[1m852/852\u001b[0m \u001b[32m━━━━━━━━━━━━━━━━━━━━\u001b[0m\u001b[37m\u001b[0m \u001b[1m2s\u001b[0m 3ms/step - loss: 0.3288 - val_loss: 0.3335\n",
      "Epoch 45/50\n",
      "\u001b[1m852/852\u001b[0m \u001b[32m━━━━━━━━━━━━━━━━━━━━\u001b[0m\u001b[37m\u001b[0m \u001b[1m2s\u001b[0m 3ms/step - loss: 0.3285 - val_loss: 0.3334\n",
      "Epoch 46/50\n",
      "\u001b[1m852/852\u001b[0m \u001b[32m━━━━━━━━━━━━━━━━━━━━\u001b[0m\u001b[37m\u001b[0m \u001b[1m4s\u001b[0m 4ms/step - loss: 0.3283 - val_loss: 0.3332\n",
      "Epoch 47/50\n",
      "\u001b[1m852/852\u001b[0m \u001b[32m━━━━━━━━━━━━━━━━━━━━\u001b[0m\u001b[37m\u001b[0m \u001b[1m3s\u001b[0m 3ms/step - loss: 0.3280 - val_loss: 0.3331\n",
      "Epoch 48/50\n",
      "\u001b[1m852/852\u001b[0m \u001b[32m━━━━━━━━━━━━━━━━━━━━\u001b[0m\u001b[37m\u001b[0m \u001b[1m3s\u001b[0m 3ms/step - loss: 0.3278 - val_loss: 0.3330\n",
      "Epoch 49/50\n",
      "\u001b[1m852/852\u001b[0m \u001b[32m━━━━━━━━━━━━━━━━━━━━\u001b[0m\u001b[37m\u001b[0m \u001b[1m2s\u001b[0m 3ms/step - loss: 0.3276 - val_loss: 0.3329\n",
      "Epoch 50/50\n",
      "\u001b[1m852/852\u001b[0m \u001b[32m━━━━━━━━━━━━━━━━━━━━\u001b[0m\u001b[37m\u001b[0m \u001b[1m2s\u001b[0m 3ms/step - loss: 0.3274 - val_loss: 0.3327\n"
     ]
    }
   ],
   "source": [
    "input_data_3 = data_train_normalized_3\n",
    "output_data_3 = to_categorical(data_train_3[\"state\"])\n",
    "\n",
    "history_list_3, trained_mlp_3, train_index_3, test_index_3, cm_list_3 = model_train_3(create_model_3, input_data_3, output_data_3)"
   ]
  },
  {
   "cell_type": "code",
   "execution_count": 84,
   "metadata": {},
   "outputs": [
    {
     "name": "stdout",
     "output_type": "stream",
     "text": [
      "\u001b[1m426/426\u001b[0m \u001b[32m━━━━━━━━━━━━━━━━━━━━\u001b[0m\u001b[37m\u001b[0m \u001b[1m1s\u001b[0m 3ms/step\n",
      "[0 0 0 ... 0 2 0]\n",
      "\u001b[1m426/426\u001b[0m \u001b[32m━━━━━━━━━━━━━━━━━━━━\u001b[0m\u001b[37m\u001b[0m \u001b[1m1s\u001b[0m 2ms/step\n",
      "[0 0 2 ... 0 2 0]\n",
      "\u001b[1m426/426\u001b[0m \u001b[32m━━━━━━━━━━━━━━━━━━━━\u001b[0m\u001b[37m\u001b[0m \u001b[1m1s\u001b[0m 2ms/step\n",
      "[0 0 2 ... 0 2 0]\n"
     ]
    },
    {
     "data": {
      "image/png": "[encoded data removed]",
      "text/plain": [
       "<Figure size 800x600 with 1 Axes>"
      ]
     },
     "metadata": {},
     "output_type": "display_data"
    },
    {
     "data": {
      "image/png": "[encoded data removed]",
      "text/plain": [
       "<Figure size 800x600 with 1 Axes>"
      ]
     },
     "metadata": {},
     "output_type": "display_data"
    },
    {
     "data": {
      "image/png": "[encoded data removed]",
      "text/plain": [
       "<Figure size 800x600 with 1 Axes>"
      ]
     },
     "metadata": {},
     "output_type": "display_data"
    }
   ],
   "source": [
    "# Plot confusion matrix\n",
    "\n",
    "cm_list_3 = []\n",
    "\n",
    "for i, mlp in enumerate(trained_mlp_3):\n",
    "    y_pred = mlp.predict(input_data_3[test_index_3])\n",
    "    y_pred = np.round(y_pred)\n",
    "    y_pred = y_pred.argmax(axis=1)\n",
    "    y_true = np.argmax(output_data_3[test_index_3], axis=1)\n",
    "    #y_pred = to_categorical(y_pred, num_classes=3)\n",
    "    print(y_pred)\n",
    "    cm = confusion_matrix(y_true, y_pred)\n",
    "    cm_list_3.append(cm)\n",
    "\n",
    "for i, cm in enumerate(cm_list_3):\n",
    "    plot_confusion_matrix_2(cm, title=f\"Ex3 : Fold {i+1}\")"
   ]
  },
  {
   "cell_type": "code",
   "execution_count": 85,
   "metadata": {},
   "outputs": [
    {
     "data": {
      "image/png": "[encoded data removed]",
      "text/plain": [
       "<Figure size 640x480 with 1 Axes>"
      ]
     },
     "metadata": {},
     "output_type": "display_data"
    }
   ],
   "source": [
    "plot_history(history_list_3)"
   ]
  },
  {
   "cell_type": "code",
   "execution_count": 86,
   "metadata": {},
   "outputs": [
    {
     "name": "stdout",
     "output_type": "stream",
     "text": [
      "\u001b[1m426/426\u001b[0m \u001b[32m━━━━━━━━━━━━━━━━━━━━\u001b[0m\u001b[37m\u001b[0m \u001b[1m1s\u001b[0m 1ms/step\n",
      "\u001b[1m426/426\u001b[0m \u001b[32m━━━━━━━━━━━━━━━━━━━━\u001b[0m\u001b[37m\u001b[0m \u001b[1m1s\u001b[0m 1ms/step\n",
      "\u001b[1m426/426\u001b[0m \u001b[32m━━━━━━━━━━━━━━━━━━━━\u001b[0m\u001b[37m\u001b[0m \u001b[1m1s\u001b[0m 1ms/step\n",
      "Fold 1, F1 Score: 0.8826468302431443\n",
      "Fold 2, F1 Score: 0.8821304057562496\n",
      "Fold 3, F1 Score: 0.8814776428782943\n",
      "\n",
      "Mean F1 Score: 0.8820849596258961\n"
     ]
    }
   ],
   "source": [
    "#f1 score mean\n",
    "f1_scores_3 = []\n",
    "\n",
    "for i, mlp in enumerate(trained_mlp_3):\n",
    "    y_pred = np.round(mlp.predict(np.float32(input_data_3)[test_index_3]))\n",
    "    f1 = f1_score(np.float32(output_data_3)[test_index_3], y_pred, average='micro')\n",
    "    f1_scores_3.append(f1)\n",
    "\n",
    "f1_mean_3 = np.mean(f1_scores_3)\n",
    "\n",
    "for i, f1 in enumerate(f1_scores_3):\n",
    "    print(f\"Fold {i+1}, F1 Score: {f1}\")\n",
    "\n",
    "print(f\"\\nMean F1 Score: {f1_mean_3}\")"
   ]
  },
  {
   "cell_type": "markdown",
   "metadata": {},
   "source": [
    "### Résultat de différente combinaison, à voir ce qu'on garde\n",
    "#### 1. 0.8536443148\n",
    "- LR : 0.001\n",
    "- M : 0.9\n",
    "- epoch : 10\n",
    "\n",
    "Layers :\n",
    "- 8, tanh\n",
    "- 1, tanh\n",
    "\n",
    "#### 2. 0.8567042042007113\n",
    "- LR : 0.1\n",
    "- M : 0.0\n",
    "- epoch : 10\n",
    "\n",
    "Layers :\n",
    "- 5, tanh\n",
    "- 3, tanh\n",
    "- 1, tanh"
   ]
  }
 ],
 "metadata": {
  "kernelspec": {
   "display_name": "base",
   "language": "python",
   "name": "python3"
  },
  "language_info": {
   "codemirror_mode": {
    "name": "ipython",
    "version": 3
   },
   "file_extension": ".py",
   "mimetype": "text/x-python",
   "name": "python",
   "nbconvert_exporter": "python",
   "pygments_lexer": "ipython3",
   "version": "3.11.7"
  }
 },
 "nbformat": 4,
 "nbformat_minor": 2
}
